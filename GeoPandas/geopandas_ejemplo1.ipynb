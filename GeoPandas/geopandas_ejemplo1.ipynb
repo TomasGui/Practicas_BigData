{
 "cells": [
  {
   "cell_type": "code",
   "execution_count": 2,
   "id": "1ce83419-2474-48c6-b161-17b544da0424",
   "metadata": {
    "id": "1ce83419-2474-48c6-b161-17b544da0424"
   },
   "outputs": [
    {
     "ename": "ModuleNotFoundError",
     "evalue": "No module named 'geopandas'",
     "output_type": "error",
     "traceback": [
      "\u001b[1;31m---------------------------------------------------------------------------\u001b[0m",
      "\u001b[1;31mModuleNotFoundError\u001b[0m                       Traceback (most recent call last)",
      "Cell \u001b[1;32mIn[2], line 1\u001b[0m\n\u001b[1;32m----> 1\u001b[0m \u001b[38;5;28;01mimport\u001b[39;00m \u001b[38;5;21;01mgeopandas\u001b[39;00m\n\u001b[0;32m      3\u001b[0m path_to_data \u001b[38;5;241m=\u001b[39m geopandas\u001b[38;5;241m.\u001b[39mdatasets\u001b[38;5;241m.\u001b[39mget_path(\u001b[38;5;124m\"\u001b[39m\u001b[38;5;124mnybb\u001b[39m\u001b[38;5;124m\"\u001b[39m)\n\u001b[0;32m      4\u001b[0m gdf \u001b[38;5;241m=\u001b[39m geopandas\u001b[38;5;241m.\u001b[39mread_file(path_to_data)\n",
      "\u001b[1;31mModuleNotFoundError\u001b[0m: No module named 'geopandas'"
     ]
    }
   ],
   "source": [
    "import geopandas\n",
    "\n",
    "path_to_data = geopandas.datasets.get_path(\"nybb\")\n",
    "gdf = geopandas.read_file(path_to_data)"
   ]
  },
  {
   "cell_type": "code",
   "execution_count": 3,
   "id": "8ccd748a-6e72-40c0-be7b-45f66db05254",
   "metadata": {
    "colab": {
     "base_uri": "https://localhost:8080/",
     "height": 206
    },
    "id": "8ccd748a-6e72-40c0-be7b-45f66db05254",
    "outputId": "8c548dae-76b7-4937-a49b-c4ed7019e13d"
   },
   "outputs": [
    {
     "ename": "NameError",
     "evalue": "name 'gdf' is not defined",
     "output_type": "error",
     "traceback": [
      "\u001b[1;31m---------------------------------------------------------------------------\u001b[0m",
      "\u001b[1;31mNameError\u001b[0m                                 Traceback (most recent call last)",
      "Cell \u001b[1;32mIn[3], line 1\u001b[0m\n\u001b[1;32m----> 1\u001b[0m gdf\n",
      "\u001b[1;31mNameError\u001b[0m: name 'gdf' is not defined"
     ]
    }
   ],
   "source": [
    "gdf"
   ]
  },
  {
   "cell_type": "code",
   "execution_count": null,
   "id": "e4dc60c9-5020-43d9-8a78-b7199a455148",
   "metadata": {
    "colab": {
     "base_uri": "https://localhost:8080/",
     "height": 300
    },
    "id": "e4dc60c9-5020-43d9-8a78-b7199a455148",
    "outputId": "b496197f-429a-466e-c70f-c25394f1cf79"
   },
   "outputs": [],
   "source": [
    "gdf.describe()"
   ]
  },
  {
   "cell_type": "code",
   "execution_count": null,
   "id": "2621dac5-f849-4822-833c-11cd5fb7d0d6",
   "metadata": {
    "id": "2621dac5-f849-4822-833c-11cd5fb7d0d6"
   },
   "outputs": [],
   "source": [
    "gdf = gdf.set_index('BoroName')"
   ]
  },
  {
   "cell_type": "code",
   "execution_count": null,
   "id": "7f2d8f29-74ba-4184-91b2-6ab199857606",
   "metadata": {
    "colab": {
     "base_uri": "https://localhost:8080/",
     "height": 238
    },
    "id": "7f2d8f29-74ba-4184-91b2-6ab199857606",
    "outputId": "bd741f97-65e4-497e-c6a2-bb364b738860"
   },
   "outputs": [],
   "source": [
    "gdf"
   ]
  },
  {
   "cell_type": "code",
   "execution_count": null,
   "id": "765a16bd-8c4f-41af-9589-0c6c7e95c35e",
   "metadata": {
    "id": "765a16bd-8c4f-41af-9589-0c6c7e95c35e"
   },
   "outputs": [],
   "source": [
    "gdf[\"area\"] = gdf.area\n",
    "gdf['centroid'] = gdf.centroid"
   ]
  },
  {
   "cell_type": "code",
   "execution_count": null,
   "id": "6df85de2-a25e-462b-b696-6173190443d6",
   "metadata": {
    "colab": {
     "base_uri": "https://localhost:8080/",
     "height": 238
    },
    "id": "6df85de2-a25e-462b-b696-6173190443d6",
    "outputId": "24e6482e-1555-47d1-d602-2aa25ef642a1"
   },
   "outputs": [],
   "source": [
    "gdf"
   ]
  },
  {
   "cell_type": "markdown",
   "id": "ad9c6ba1-2e86-49af-a642-064786d89641",
   "metadata": {
    "id": "ad9c6ba1-2e86-49af-a642-064786d89641"
   },
   "source": [
    "<b>Medimos distancias</b>"
   ]
  },
  {
   "cell_type": "code",
   "execution_count": null,
   "id": "e53153ee-afdf-48da-81b3-c213385782a9",
   "metadata": {
    "id": "e53153ee-afdf-48da-81b3-c213385782a9"
   },
   "outputs": [],
   "source": [
    "primer_punto = gdf['centroid'].iloc[0]\n",
    "primer_punto"
   ]
  },
  {
   "cell_type": "code",
   "execution_count": null,
   "id": "9a18290b-b007-4cbb-92e9-11ff8a7558ce",
   "metadata": {
    "id": "9a18290b-b007-4cbb-92e9-11ff8a7558ce"
   },
   "outputs": [],
   "source": [
    "gdf['distance'] = gdf['centroid'].distance(primer_punto)"
   ]
  },
  {
   "cell_type": "code",
   "execution_count": null,
   "id": "ebea2754-c1c1-4252-b7e6-27db7e8ef87f",
   "metadata": {
    "colab": {
     "base_uri": "https://localhost:8080/",
     "height": 238
    },
    "id": "ebea2754-c1c1-4252-b7e6-27db7e8ef87f",
    "outputId": "2b251c8c-3978-4806-f60f-2f25c0163924"
   },
   "outputs": [],
   "source": [
    "gdf"
   ]
  },
  {
   "cell_type": "code",
   "execution_count": null,
   "id": "51d2faf1-8c6b-4aed-9660-4a1c7ccdc11a",
   "metadata": {
    "colab": {
     "base_uri": "https://localhost:8080/",
     "height": 481
    },
    "id": "51d2faf1-8c6b-4aed-9660-4a1c7ccdc11a",
    "outputId": "625f720d-1824-4ea7-cffd-db78cf1cb5a2"
   },
   "outputs": [],
   "source": [
    "gdf.plot(\"area\", legend=True)"
   ]
  },
  {
   "cell_type": "code",
   "execution_count": null,
   "id": "ab697d1d-e52e-4562-91bb-71d5881d391e",
   "metadata": {
    "colab": {
     "base_uri": "https://localhost:8080/",
     "height": 470
    },
    "id": "ab697d1d-e52e-4562-91bb-71d5881d391e",
    "outputId": "7b9494e6-354f-4662-98db-79a7d449c0a7"
   },
   "outputs": [],
   "source": [
    "ax = gdf[\"geometry\"].plot()\n",
    "gdf[\"centroid\"].plot(ax=ax, color=\"black\")"
   ]
  },
  {
   "cell_type": "code",
   "execution_count": null,
   "id": "751c4899",
   "metadata": {},
   "outputs": [],
   "source": []
  }
 ],
 "metadata": {
  "colab": {
   "provenance": []
  },
  "kernelspec": {
   "display_name": "Python 3 (ipykernel)",
   "language": "python",
   "name": "python3"
  },
  "language_info": {
   "codemirror_mode": {
    "name": "ipython",
    "version": 3
   },
   "file_extension": ".py",
   "mimetype": "text/x-python",
   "name": "python",
   "nbconvert_exporter": "python",
   "pygments_lexer": "ipython3",
   "version": "3.11.7"
  }
 },
 "nbformat": 4,
 "nbformat_minor": 5
}
