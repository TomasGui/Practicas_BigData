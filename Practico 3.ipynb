{
 "cells": [
  {
   "cell_type": "code",
   "execution_count": 2,
   "id": "2c2ad4f7-c76d-43d4-8c70-6e9b1447ad07",
   "metadata": {},
   "outputs": [
    {
     "name": "stdin",
     "output_type": "stream",
     "text": [
      "Ingrese su nombre : Guillermo\n",
      "Ingrese su apellido : Tomas\n"
     ]
    },
    {
     "name": "stdout",
     "output_type": "stream",
     "text": [
      "Bienvenido Guillermo Tomas !!\n"
     ]
    }
   ],
   "source": [
    " #1. Escriba un script que solicite el nombre  y al apellido del usuario usando la función input. El\n",
    "#script debe finalizar volcando a pantalla los datos ingresados.  \n",
    "nombre = input(\"Ingrese su nombre :\")\n",
    "apellido =input(\"Ingrese su apellido :\")\n",
    "print(f\"Bienvenido {nombre} {apellido} !!\")"
   ]
  },
  {
   "cell_type": "code",
   "execution_count": 6,
   "id": "73015a96-e07d-464d-b8f2-7e007a8e875e",
   "metadata": {},
   "outputs": [
    {
     "name": "stdin",
     "output_type": "stream",
     "text": [
      "Ingrese su nombre : Guillermo Tomas\n",
      "Ingrese su apellido : Santurio\n",
      "Ingrese su edad:  32\n"
     ]
    },
    {
     "name": "stdout",
     "output_type": "stream",
     "text": [
      "Bienvenido Guillermo Tomas Santurio !! - Su edad en meses 11680\n",
      "Finalizo la prueba\n"
     ]
    },
    {
     "data": {
      "text/plain": [
       "('Guillermo Tomas', 'Santurio', 32)"
      ]
     },
     "execution_count": 6,
     "metadata": {},
     "output_type": "execute_result"
    }
   ],
   "source": [
    "#2. Modifique el script anterior para solicitar la edad del usuario y imprimir en pantalla la edad en meses.\n",
    "def IngresarDatos():\n",
    "    nombre,apellido =\"\" ,\"\"\n",
    "    edad = 0\n",
    "    try:\n",
    "        nombre = input(\"Ingrese su nombre :\")\n",
    "        apellido =input(\"Ingrese su apellido :\")\n",
    "        edad=int(input(\"Ingrese su edad: \"))\n",
    "        print(f\"Bienvenido {nombre} {apellido} !! - Su edad en meses {edad*365}\")\n",
    "    except ValueError:\n",
    "        print(\"Error al ingresar su edad\")\n",
    "    finally:\n",
    "        print(\"Finalizo la prueba\")\n",
    "    return nombre , apellido, edad\n",
    "\n",
    "IngresarDatos()\n"
   ]
  },
  {
   "cell_type": "code",
   "execution_count": 7,
   "id": "41998417-465c-4f91-834d-b7a747daa3ab",
   "metadata": {},
   "outputs": [
    {
     "name": "stdin",
     "output_type": "stream",
     "text": [
      "Ingrese su nombre : Guillermo Tomas\n",
      "Ingrese su apellido : Santurio\n",
      "Ingrese su edad:  32\n"
     ]
    },
    {
     "name": "stdout",
     "output_type": "stream",
     "text": [
      "Bienvenido Guillermo Tomas Santurio !! - Su edad en meses 11680\n",
      "Finalizo la prueba\n"
     ]
    }
   ],
   "source": [
    "# 3. Modifique el script anterior para guardar los datos del usuario en un archivo de texto.\n",
    "# Crear una archivo en modo write\n",
    "f = open(\"DatosPersonales.txt\", \"w\")\n",
    "datos = IngresarDatos()\n",
    "#Iterar los datos ingresados\n",
    "for d in datos: \n",
    "    f.write(f\"{d} \\r\\n\")\n",
    "# Cerrar el arhivo\n",
    "f.close()"
   ]
  },
  {
   "cell_type": "code",
   "execution_count": 14,
   "id": "d70b029f-7878-4d0d-9a34-dbd86f3b5e0a",
   "metadata": {},
   "outputs": [
    {
     "name": "stdout",
     "output_type": "stream",
     "text": [
      "Linea: Guillermo Tomas \n",
      "Linea: 32 \n",
      "Linea: Fin Archivo"
     ]
    }
   ],
   "source": [
    "#4. Genere un script que permita volcar a pantalla el contenido del archivo generado en el ejercicio anterior. \n",
    "#Leer un archivo línea a línea:\n",
    "f = open(\"DatosPersonales.txt\", \"r\")\n",
    "for linea in f:\n",
    "    print(\"Linea:\", linea, end=\"\")\n",
    "f.close()"
   ]
  },
  {
   "cell_type": "code",
   "execution_count": 13,
   "id": "7794a87f-848c-4f05-a0ae-c90c7f4f0d8d",
   "metadata": {},
   "outputs": [],
   "source": [
    "#5. Escriba un script que añada al archivo generado: “Fin del archivo”\n",
    "with open(\"DatosPersonales.txt\", \"a\") as f:\n",
    "    f_final= \"Fin Archivo\"\n",
    "    # Escribir un texto al archivo\n",
    "    f.write(f_final)"
   ]
  },
  {
   "cell_type": "code",
   "execution_count": 15,
   "id": "2229044a-b3bc-4888-bac3-38a7e8b77b7b",
   "metadata": {},
   "outputs": [
    {
     "name": "stdout",
     "output_type": "stream",
     "text": [
      "['Guillermo Tomas \\n', '32 \\n', 'Fin Archivo']\n",
      "['Guillermo Tomas \\n', '32 \\n', 'Fin Archivo']\n",
      "ENTRA 1\n",
      "ENTRA 1\n",
      "['Guillermo Tomas \\n', '32 \\n', 'Fin Archivo']\n"
     ]
    }
   ],
   "source": [
    "# 6 y 7 Escriba otro archivo que elimina las líneas impares. \n",
    "lineas = list()\n",
    "# Abrir el archivo en modo lectura y escritura\n",
    "with open(\"DatosPersonales.txt\",\"r\") as f:\n",
    "    # Leer todas las líneas del archivo\n",
    "    lineas = list(f)\n",
    "    print(lineas)\n",
    "with open(\"DatosPersonales.txt\",\"w\") as f:   \n",
    "    print(lineas)\n",
    "    # Escribir solo las líneas pares\n",
    "    num_linea = 0 \n",
    "    for linea in lineas:\n",
    "        if num_linea % 2 == 0:\n",
    "            f.write(linea)\n",
    "            print(\"ENTRA 1\")\n",
    "        num_linea = num_linea +1\n",
    "print(lineas)"
   ]
  },
  {
   "cell_type": "code",
   "execution_count": 16,
   "id": "b905d18e-1511-407d-a157-fade87596faf",
   "metadata": {},
   "outputs": [
    {
     "name": "stdout",
     "output_type": "stream",
     "text": [
      "Nombre del archivo:  DatosPersonales.txt\n",
      "Guillermo Tomas \n",
      "Fin Archivo\n",
      "Primera línea: Guillermo Tomas \n",
      "\n"
     ]
    }
   ],
   "source": [
    "# 8. ¿Qué hace el siguiente script ?\n",
    "with open(\"DatosPersonales.txt\", \"r+\") as file:\n",
    "    print (\"Nombre del archivo: \", file.name)\n",
    "    print (file.read())\n",
    "    file.seek(0, 0)\n",
    "    linea = file.readline()\n",
    "    print (f\"Primera línea: {linea}\")"
   ]
  },
  {
   "cell_type": "code",
   "execution_count": 19,
   "id": "0165d2eb-caf6-4fe5-b938-e0c6d96bd007",
   "metadata": {},
   "outputs": [
    {
     "data": {
      "text/plain": [
       "'\\nAbstracción: soportado\\nEncapsulamiento: soportado\\nOcultamiento: brinda está característica por convención.\\nPolimorfismo:  natural por su enfoque dinámico (enlazado tardío).\\nHerencia: soporta herencia simple y múltiple\\nRecolección de basura: soportado\\n'"
      ]
     },
     "execution_count": 19,
     "metadata": {},
     "output_type": "execute_result"
    }
   ],
   "source": [
    "# 9. ¿Cuáles son las carateristicas principales de la programación orientada a objetos? ¿Python las soporta ?\n",
    "\"\"\"\n",
    "Abstracción: soportado\n",
    "Encapsulamiento: soportado\n",
    "Ocultamiento: brinda está característica por convención.\n",
    "Polimorfismo:  natural por su enfoque dinámico (enlazado tardío).\n",
    "Herencia: soporta herencia simple y múltiple\n",
    "Recolección de basura: soportado\n",
    "\"\"\""
   ]
  },
  {
   "cell_type": "code",
   "execution_count": 40,
   "id": "6d179794-cc97-48dd-bc22-9fa25fa27f3a",
   "metadata": {},
   "outputs": [
    {
     "name": "stdout",
     "output_type": "stream",
     "text": [
      "El perro se llama Juancho y vive en Montevideo\n"
     ]
    }
   ],
   "source": [
    "# 10. Escriba una clase que contenga solo un par de variables. Genere una instancia para acceder y modificar los valores.\n",
    "class Perro:\n",
    "    def __init__(self,nombre,hogar):\n",
    "        self.nombre=nombre\n",
    "        self.hogar=hogar\n",
    "        \n",
    "    def Mostrar(self):\n",
    "        print(f\"El perro se llama {self.nombre} y vive en {self.hogar}\")\n",
    "\n",
    "perro1 = Perro(\"Juancho\",\"Montevideo\")\n",
    "perro1.Mostrar()"
   ]
  },
  {
   "cell_type": "code",
   "execution_count": 45,
   "id": "6e95d5f5-74b4-4128-ab73-2d1b6f3da473",
   "metadata": {},
   "outputs": [
    {
     "name": "stdout",
     "output_type": "stream",
     "text": [
      "Mis datos: Nombre Completo Pedro Flores , Edad: 32\n"
     ]
    }
   ],
   "source": [
    "#11. Escriba una clase “Persona” con los atributos: nombre, apellido, edad. Use el constructor \n",
    "#para inicializar los valores. También defina el método “misdatos” para volcar a pantalla un \n",
    "#resumen de los datos personales.  Genere un par de instancias e invoque el método misdatos \n",
    "\n",
    "class Persona:\n",
    "    def __init__(self,nombre,apellido,edad):\n",
    "        self.nombre = nombre\n",
    "        self.apellido = apellido\n",
    "        self.edad = edad\n",
    "    def misdatos(self):\n",
    "        #Para el uso dentro de la clase se debe usar self en referencia a al clase para acceder a sus atributos\n",
    "        print(f\"Mis datos: Nombre Completo {self.nombre} {self.apellido} , Edad: {self.edad}\")\n",
    "\n",
    "p1=Persona(\"Pedro\",\"Flores\",32)\n",
    "p1.misdatos()\n"
   ]
  },
  {
   "cell_type": "code",
   "execution_count": 46,
   "id": "c1f89425-00ab-497b-a37a-99311bca575d",
   "metadata": {},
   "outputs": [
    {
     "data": {
      "text/plain": [
       "'\\nSí, en Python una instancia de una clase es un objeto. Cuando se crea una instancia de una clase (también conocida como objeto) en Python, \\nse está creando una instancia específica de esa clase con sus propias características y comportamientos, \\nbasados en la definición de la clase.\\n'"
      ]
     },
     "execution_count": 46,
     "metadata": {},
     "output_type": "execute_result"
    }
   ],
   "source": [
    "# 12. ¿Una instancia de una clase es un objeto? \n",
    "\"\"\"\n",
    "Sí, en Python una instancia de una clase es un objeto. Cuando se crea una instancia de una clase (también conocida como objeto) en Python, \n",
    "se está creando una instancia específica de esa clase con sus propias características y comportamientos, \n",
    "basados en la definición de la clase.\n",
    "\"\"\""
   ]
  },
  {
   "cell_type": "code",
   "execution_count": 47,
   "id": "cefd53d3-cd82-41db-b682-c2f77f7d4fe8",
   "metadata": {},
   "outputs": [],
   "source": [
    "# 13. ¿Se pueden añadir o borrar variables a un objeto ? ¿Cómo? Atributos si se mueden modificar y actualziar , una vez creada la clase . \n",
    "# Se pueden eliminar los valores que contenga ese atributo.. CONSUALTAR AL DOCENTE\n"
   ]
  },
  {
   "cell_type": "code",
   "execution_count": 1,
   "id": "1a19084d-e519-49f4-8dfa-196f1f7290be",
   "metadata": {},
   "outputs": [
    {
     "name": "stdout",
     "output_type": "stream",
     "text": [
      "Valor_Varariable\n"
     ]
    }
   ],
   "source": [
    "# 14. ¿Cuales son las variables de la clase ? ¿Cómo se acceden ? Class MiClass : \n",
    "\"\"\"\n",
    "Class MiClass : \n",
    "    variable_clase=valor1\n",
    "\n",
    "Acceso\n",
    "MiClass.variable_clase\n",
    "\"\"\"\n",
    "class A:\n",
    "    valor=\"Valor_Varariable\"\n",
    "\n",
    "print(A.valor) "
   ]
  },
  {
   "cell_type": "code",
   "execution_count": 2,
   "id": "206cdec8-72d7-4c6d-9723-67d2ad66b856",
   "metadata": {},
   "outputs": [
    {
     "name": "stdout",
     "output_type": "stream",
     "text": [
      "Valor_Dato\n"
     ]
    }
   ],
   "source": [
    "# 15. ¿Cuales son las variables de la instancia ? ¿Cómo se acceden ?\n",
    "class B:\n",
    "    def __init__(self,valor):\n",
    "        self.valor = valor\n",
    "\n",
    "b1=B(\"Valor_Dato\")\n",
    "print(b1.valor)"
   ]
  },
  {
   "cell_type": "code",
   "execution_count": 3,
   "id": "77dce6cc-dc09-434c-82fe-3b04d17be281",
   "metadata": {},
   "outputs": [],
   "source": [
    "#16. ¿Qué indica un guión al principio de una variable? _ indica que es una variable privada y solo puede usarse en la misma clase"
   ]
  },
  {
   "cell_type": "code",
   "execution_count": 4,
   "id": "d8e08f47-01cc-4389-a8bb-84194cd029e2",
   "metadata": {},
   "outputs": [
    {
     "name": "stdout",
     "output_type": "stream",
     "text": [
      "42\n"
     ]
    }
   ],
   "source": [
    "# 17. ¿Cómo se accede a una variable que empieza con dos guiones ?\n",
    "class MiClase:\n",
    "    def __init__(self):\n",
    "        self.__variable_privada = 42\n",
    "\n",
    "objeto = MiClase()\n",
    "\n",
    "# Accediendo a la variable privada desde fuera de la clase\n",
    "print(objeto._MiClase__variable_privada)  # Imprimirá: 42"
   ]
  },
  {
   "cell_type": "code",
   "execution_count": 7,
   "id": "c7492fe3-641a-43da-a7d3-c1d392f6a8dc",
   "metadata": {},
   "outputs": [
    {
     "name": "stdout",
     "output_type": "stream",
     "text": [
      "calling from smartphone...\n",
      "messaging...\n"
     ]
    }
   ],
   "source": [
    "#18. ¿Qué retorna el siguiente código?\n",
    "class phone:\n",
    "    number = 12345\n",
    "    def call (self):\n",
    "        print (\"calling ...\")\n",
    "class smartphone(phone):\n",
    "    number = 56789\n",
    "    def call(self):\n",
    "        print (\"calling from smartphone...\")\n",
    "    def message (self):\n",
    "        print (\"messaging...\")\n",
    "        \n",
    "myphone1 = smartphone()\n",
    "myphone1.call()\n",
    "myphone1.message()"
   ]
  },
  {
   "cell_type": "code",
   "execution_count": 10,
   "id": "64a9adfa-ab21-467e-87af-6e8f57e7028f",
   "metadata": {},
   "outputs": [
    {
     "name": "stdout",
     "output_type": "stream",
     "text": [
      "calling... 1234\n"
     ]
    }
   ],
   "source": [
    "# 19. ¿Qué retorna el siguiente código?\n",
    "class phone:\n",
    "    __number = 1234\n",
    "    def call(self):\n",
    "        print (\"calling...\", phone.__number)\n",
    "myphone1 = phone ()\n",
    "myphone1.call ()\n",
    "#print (\"calling...\", phone.__number) #No se puede acceder desde este nivel al atributo Phone da error "
   ]
  },
  {
   "cell_type": "code",
   "execution_count": 15,
   "id": "0e665d9f-70dc-473d-8f6b-2aa3224e5d4e",
   "metadata": {},
   "outputs": [
    {
     "name": "stdout",
     "output_type": "stream",
     "text": [
      "Valor String : Texto libre\n"
     ]
    }
   ],
   "source": [
    "# 20. Escriba una clase de Python que tenga dos métodos get_String e print_String. get_String acepta una cadena del usuario e print_String imprime la cadena en mayúsculas.\n",
    "class Cadena_Usuario:\n",
    "    def get_String(self, valor_cadena):\n",
    "        self.cadena= valor_cadena\n",
    "    def print_String(self):\n",
    "        print(f\"Valor String : {self.cadena}\")\n",
    "\n",
    "c1 = Cadena_Usuario()\n",
    "c1.get_String(\"Texto libre\")\n",
    "c1.print_String()"
   ]
  },
  {
   "cell_type": "code",
   "execution_count": 18,
   "id": "e8515cdd-6ea8-402b-bbdc-13e1c6a5d20f",
   "metadata": {},
   "outputs": [
    {
     "name": "stdout",
     "output_type": "stream",
     "text": [
      " valor del area : 200\n"
     ]
    }
   ],
   "source": [
    "# 21. Escriba una clase de Python llamada Rectangulo construida por un largo y ancho y un método que calcule el área de un rectángulo.\n",
    "#Pre condicion usar valores enteros o reales \n",
    "class Rectangulo: \n",
    "    def __init__(self,largo, ancho):\n",
    "        self.largo=largo\n",
    "        self.ancho=ancho\n",
    "    def Area(self):\n",
    "        return self.largo*self.ancho\n",
    "r1=Rectangulo(10,20)\n",
    "print(f\" valor del area : {r1.Area()}\") "
   ]
  },
  {
   "cell_type": "code",
   "execution_count": 19,
   "id": "d102aa94-f1d9-4fe7-b344-07f4900d035d",
   "metadata": {},
   "outputs": [
    {
     "name": "stdout",
     "output_type": "stream",
     "text": [
      "Primmer element = 1\n",
      "Error accediendo a los elementos de la lista\n"
     ]
    }
   ],
   "source": [
    "#22. ¿Cuál es el resultado del siguiente código? No va poder acceder a la posicion a[3] no existe en este entorno \n",
    "a = [1, 2, 3] \n",
    "try:  \n",
    "    print (f\"Primmer element = {a[0]}\") \n",
    "    print (f\"Tercer element = {a[3]}\") \n",
    "except IndexError: \n",
    "    print (\"Error accediendo a los elementos de la lista\")"
   ]
  },
  {
   "cell_type": "code",
   "execution_count": 4,
   "id": "f4c72f1c-5f8b-480a-8e9a-7c7ce7857309",
   "metadata": {},
   "outputs": [
    {
     "name": "stdin",
     "output_type": "stream",
     "text": [
      "Ingrese su edad : a\n"
     ]
    },
    {
     "name": "stdout",
     "output_type": "stream",
     "text": [
      "<class 'ValueError'>\n",
      "Se ha producido un error en la conversion del valor entero o real\n"
     ]
    }
   ],
   "source": [
    "#23. Escriba un script que solicite al usuario la edad (valor entero) y el peso (valor real) y \n",
    "# verifique que el primero represente un número int válido y que el segundo represente un \n",
    "# número flotante válido. Haga comentarios útiles si no lo son.\n",
    "try:\n",
    "    edad = int(input(\"Ingrese su edad :\"))\n",
    "    if edad < 0 :\n",
    "        raise Exception(\"edad tiene un valor negativo\")\n",
    "    peso = float(input(\"Ingrese su peso :\"))\n",
    "    if peso < 0 : \n",
    "        raise Exception(\"peso tiene un valor negativo\")\n",
    "except Exception as error:\n",
    "    print(type(error))\n",
    "    if isinstance(error, ValueError):\n",
    "        # Convertir la excepción a un ValueError\n",
    "        valor_error = ValueError(str(error))\n",
    "        print(\"Se ha producido un error en la conversion del valor entero o real\")\n",
    "    else:\n",
    "        print(\"Error: \", error)"
   ]
  },
  {
   "cell_type": "code",
   "execution_count": 43,
   "id": "89b3fc6e-3df9-4710-a4a1-d88dca35a392",
   "metadata": {},
   "outputs": [],
   "source": [
    "#24. Escriba un script que intente leer un archivo  Proporcione comentarios útiles si el archivo no existe o si algo sale mal al leer el archivo.\n",
    "\n",
    "def LeerArchivo(nombre_archivo , extension):\n",
    "    try:\n",
    "        with open(f\"{nombre_archivo}.{extension}\", \"r\") as f:\n",
    "            print(f\"Contenido del archivo : {f.read()}\")\n",
    "    except:\n",
    "        print(\"No fue posible acceder al archivo , no existe o no se pudo leer\")\n"
   ]
  },
  {
   "cell_type": "code",
   "execution_count": 44,
   "id": "6d39e92e-c4b3-46e9-806c-ac34b5969e86",
   "metadata": {},
   "outputs": [
    {
     "name": "stdout",
     "output_type": "stream",
     "text": [
      "No fue posible acceder al archivo , no existe o no se pudo leer\n"
     ]
    }
   ],
   "source": [
    "LeerArchivo(\"Datos\",\"txt\")"
   ]
  },
  {
   "cell_type": "code",
   "execution_count": 45,
   "id": "8e903beb-d371-4b4d-984b-a3d0423eecfb",
   "metadata": {},
   "outputs": [
    {
     "name": "stdout",
     "output_type": "stream",
     "text": [
      "Contenido del archivo : Guillermo Tomas \n",
      "Fin Archivo\n"
     ]
    }
   ],
   "source": [
    "LeerArchivo(\"DatosPersonales\",\"txt\")"
   ]
  },
  {
   "cell_type": "code",
   "execution_count": 47,
   "id": "e0970158-ea9b-4451-b6e8-9f1d73eb6978",
   "metadata": {},
   "outputs": [
    {
     "name": "stdout",
     "output_type": "stream",
     "text": [
      "-5.0\n",
      "a-b es 0\n"
     ]
    }
   ],
   "source": [
    "#25.¿Cómo funciona el else en el siguiente script? ELSE solo se Ejecutara si no hay EXCEPCIONEs\n",
    "def dividir(a , b): \n",
    "    try:\n",
    "        c = ((a+b) / (a-b)) \n",
    "    except ZeroDivisionError: \n",
    "        print(\"a-b es 0\")\n",
    "    else:\n",
    "        print(c)\n",
    "dividir(2.0, 3.0)\n",
    "dividir(3.0, 3.0)"
   ]
  },
  {
   "cell_type": "code",
   "execution_count": 3,
   "id": "cc8d1d93-928d-4eac-9383-181e3f357130",
   "metadata": {},
   "outputs": [
    {
     "name": "stdout",
     "output_type": "stream",
     "text": [
      "Una excepción <class 'NameError'>\n"
     ]
    }
   ],
   "source": [
    "# 26. Analice el resultado del siguiente script:\n",
    "try:  \n",
    "    raise NameError(\"Lanzando un excepción\")  \n",
    "except NameError as e: \n",
    "    print (\"Una excepción\", type(e))\n"
   ]
  },
  {
   "cell_type": "code",
   "execution_count": null,
   "id": "1436832e-5373-401d-b6eb-4b60f27b3d72",
   "metadata": {},
   "outputs": [],
   "source": []
  }
 ],
 "metadata": {
  "kernelspec": {
   "display_name": "Python 3 (ipykernel)",
   "language": "python",
   "name": "python3"
  },
  "language_info": {
   "codemirror_mode": {
    "name": "ipython",
    "version": 3
   },
   "file_extension": ".py",
   "mimetype": "text/x-python",
   "name": "python",
   "nbconvert_exporter": "python",
   "pygments_lexer": "ipython3",
   "version": "3.11.7"
  }
 },
 "nbformat": 4,
 "nbformat_minor": 5
}
