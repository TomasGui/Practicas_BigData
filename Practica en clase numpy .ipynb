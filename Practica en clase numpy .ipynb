{
 "cells": [
  {
   "cell_type": "code",
   "execution_count": 1,
   "id": "e7ccec97-a12b-4b55-b72d-f81afbe7f5fc",
   "metadata": {},
   "outputs": [],
   "source": [
    "import numpy as np"
   ]
  },
  {
   "cell_type": "code",
   "execution_count": 3,
   "id": "e0299909-35f7-4617-9c22-f8e900a13182",
   "metadata": {},
   "outputs": [],
   "source": [
    "a = np.arange(15).reshape(3,5)"
   ]
  },
  {
   "cell_type": "code",
   "execution_count": 4,
   "id": "d61c102f-2e2f-441a-a71a-9b58346723df",
   "metadata": {},
   "outputs": [
    {
     "name": "stdout",
     "output_type": "stream",
     "text": [
      "[[ 0  1  2  3  4]\n",
      " [ 5  6  7  8  9]\n",
      " [10 11 12 13 14]]\n"
     ]
    }
   ],
   "source": [
    "print(a)"
   ]
  },
  {
   "cell_type": "code",
   "execution_count": 5,
   "id": "f5576b61-1d14-4798-8475-9d4a20d2799d",
   "metadata": {},
   "outputs": [
    {
     "data": {
      "text/plain": [
       "(3, 5)"
      ]
     },
     "execution_count": 5,
     "metadata": {},
     "output_type": "execute_result"
    }
   ],
   "source": [
    "a.shape"
   ]
  },
  {
   "cell_type": "code",
   "execution_count": 6,
   "id": "9149275f-0f64-4efd-b327-49d900994f38",
   "metadata": {},
   "outputs": [
    {
     "data": {
      "text/plain": [
       "2"
      ]
     },
     "execution_count": 6,
     "metadata": {},
     "output_type": "execute_result"
    }
   ],
   "source": [
    "a.ndim"
   ]
  },
  {
   "cell_type": "code",
   "execution_count": 7,
   "id": "aec56e46-d5b1-469f-9ea4-b93f0804c459",
   "metadata": {},
   "outputs": [
    {
     "data": {
      "text/plain": [
       "'int32'"
      ]
     },
     "execution_count": 7,
     "metadata": {},
     "output_type": "execute_result"
    }
   ],
   "source": [
    "a.dtype.name"
   ]
  },
  {
   "cell_type": "code",
   "execution_count": 8,
   "id": "7ec3f8ea-b7af-4412-920f-bd6093b4a730",
   "metadata": {},
   "outputs": [
    {
     "data": {
      "text/plain": [
       "4"
      ]
     },
     "execution_count": 8,
     "metadata": {},
     "output_type": "execute_result"
    }
   ],
   "source": [
    "a.itemsize"
   ]
  },
  {
   "cell_type": "code",
   "execution_count": 9,
   "id": "891d459e-8378-497e-bb28-44f5c74886f7",
   "metadata": {},
   "outputs": [
    {
     "data": {
      "text/plain": [
       "15"
      ]
     },
     "execution_count": 9,
     "metadata": {},
     "output_type": "execute_result"
    }
   ],
   "source": [
    "a.size"
   ]
  },
  {
   "cell_type": "code",
   "execution_count": 10,
   "id": "f1ae32c1-4fa5-41d2-aedc-c4852ebc90b2",
   "metadata": {},
   "outputs": [
    {
     "data": {
      "text/plain": [
       "numpy.ndarray"
      ]
     },
     "execution_count": 10,
     "metadata": {},
     "output_type": "execute_result"
    }
   ],
   "source": [
    "type(a)"
   ]
  },
  {
   "cell_type": "code",
   "execution_count": 11,
   "id": "010f770f-cd34-4236-823d-53d6ba925200",
   "metadata": {},
   "outputs": [],
   "source": [
    "b = np.array([2,3,4])"
   ]
  },
  {
   "cell_type": "code",
   "execution_count": 12,
   "id": "1d1870a5-d0bf-400d-8e92-98aff998ce90",
   "metadata": {},
   "outputs": [
    {
     "data": {
      "text/plain": [
       "dtype('int32')"
      ]
     },
     "execution_count": 12,
     "metadata": {},
     "output_type": "execute_result"
    }
   ],
   "source": [
    "b.dtype"
   ]
  },
  {
   "cell_type": "code",
   "execution_count": 13,
   "id": "e35d3d03-4ec9-4c06-9cf3-db193939f975",
   "metadata": {},
   "outputs": [],
   "source": [
    "c = np.array([1.2, 3.5,5.1])"
   ]
  },
  {
   "cell_type": "code",
   "execution_count": 14,
   "id": "c4584934-ebbc-44be-85b8-629de4778016",
   "metadata": {},
   "outputs": [
    {
     "data": {
      "text/plain": [
       "dtype('float64')"
      ]
     },
     "execution_count": 14,
     "metadata": {},
     "output_type": "execute_result"
    }
   ],
   "source": [
    "c.dtype"
   ]
  },
  {
   "cell_type": "code",
   "execution_count": 15,
   "id": "1259bcd4-6750-4fd5-9d66-f002865a4891",
   "metadata": {},
   "outputs": [],
   "source": [
    "c = np.array([[1,2],[2,4]],dtype=complex)"
   ]
  },
  {
   "cell_type": "code",
   "execution_count": 16,
   "id": "136a38b4-5b9c-4cd7-981c-af4b2f716861",
   "metadata": {},
   "outputs": [
    {
     "name": "stdout",
     "output_type": "stream",
     "text": [
      "[[ 0  1  2  3  4]\n",
      " [ 5  6  7  8  9]\n",
      " [10 11 12 13 14]]\n"
     ]
    }
   ],
   "source": [
    "print(a)"
   ]
  },
  {
   "cell_type": "code",
   "execution_count": 17,
   "id": "49772e18-1661-4da9-9354-9f349b124c39",
   "metadata": {},
   "outputs": [
    {
     "data": {
      "text/plain": [
       "11"
      ]
     },
     "execution_count": 17,
     "metadata": {},
     "output_type": "execute_result"
    }
   ],
   "source": [
    "#Expresiones Lambda \n",
    "def f(x,y,z=1):\n",
    "    return (x+y) *z\n",
    "f(5,6)"
   ]
  },
  {
   "cell_type": "code",
   "execution_count": 18,
   "id": "8d779e92-7c51-4a10-8f6f-3024531544db",
   "metadata": {},
   "outputs": [],
   "source": [
    "fun_l = lambda x, y, z =1 : (x+y)*z"
   ]
  },
  {
   "cell_type": "code",
   "execution_count": 20,
   "id": "94b40528-df3f-4a8f-9160-c8b49c00e9a3",
   "metadata": {},
   "outputs": [
    {
     "data": {
      "text/plain": [
       "11"
      ]
     },
     "execution_count": 20,
     "metadata": {},
     "output_type": "execute_result"
    }
   ],
   "source": [
    "fun_l(5,6)"
   ]
  },
  {
   "cell_type": "code",
   "execution_count": 24,
   "id": "e3d676ff-f64c-4863-8571-2431cb90cec2",
   "metadata": {},
   "outputs": [],
   "source": [
    "lista_a = [0, 1, -1, -2, 3, -4, 5, 6, 7]"
   ]
  },
  {
   "cell_type": "code",
   "execution_count": 30,
   "id": "d9fb40dc-ebdf-42ec-a072-63af94f46c46",
   "metadata": {},
   "outputs": [],
   "source": [
    "lista_b = filter(lambda x: x > 0, lista_a)"
   ]
  },
  {
   "cell_type": "code",
   "execution_count": 31,
   "id": "332a3122-bea0-48c6-b0bb-ab5f3e05ed81",
   "metadata": {},
   "outputs": [
    {
     "name": "stdout",
     "output_type": "stream",
     "text": [
      "[1, 3, 5, 6, 7]\n"
     ]
    }
   ],
   "source": [
    "print(list(lista_b)) #Es necesario castear a lo que se necesite , en este caso a una lista \n"
   ]
  },
  {
   "cell_type": "code",
   "execution_count": 35,
   "id": "c35953c1-80b2-4738-994f-beaf57ed5fe1",
   "metadata": {},
   "outputs": [
    {
     "name": "stdout",
     "output_type": "stream",
     "text": [
      "3\n",
      "4\n",
      "5\n"
     ]
    }
   ],
   "source": [
    "li = [1,2,3]\n",
    "new_li = map(lambda x: x + 2 , li)\n",
    "for item in new_li: \n",
    "    print(item)"
   ]
  },
  {
   "cell_type": "code",
   "execution_count": 36,
   "id": "2feda05c-bf1b-4a5e-9645-269328020c3f",
   "metadata": {},
   "outputs": [
    {
     "data": {
      "text/plain": [
       "map"
      ]
     },
     "execution_count": 36,
     "metadata": {},
     "output_type": "execute_result"
    }
   ],
   "source": [
    "type(new_li)"
   ]
  },
  {
   "cell_type": "code",
   "execution_count": 37,
   "id": "fd549526-0473-4b60-aa35-69ce3bc86450",
   "metadata": {},
   "outputs": [],
   "source": [
    "from functools import reduce\n",
    "producto = reduce((lambda x, y: x*y), [1, 2, 3, 4])"
   ]
  },
  {
   "cell_type": "code",
   "execution_count": 38,
   "id": "ca85093b-29f5-42b8-a5a0-2fbc895d18fb",
   "metadata": {},
   "outputs": [
    {
     "name": "stdout",
     "output_type": "stream",
     "text": [
      "24\n"
     ]
    }
   ],
   "source": [
    "print(producto)"
   ]
  },
  {
   "cell_type": "code",
   "execution_count": null,
   "id": "eee0c0b2-d94b-42bd-a8c9-fb2189904e6e",
   "metadata": {},
   "outputs": [],
   "source": []
  }
 ],
 "metadata": {
  "kernelspec": {
   "display_name": "Python 3 (ipykernel)",
   "language": "python",
   "name": "python3"
  },
  "language_info": {
   "codemirror_mode": {
    "name": "ipython",
    "version": 3
   },
   "file_extension": ".py",
   "mimetype": "text/x-python",
   "name": "python",
   "nbconvert_exporter": "python",
   "pygments_lexer": "ipython3",
   "version": "3.11.7"
  }
 },
 "nbformat": 4,
 "nbformat_minor": 5
}
