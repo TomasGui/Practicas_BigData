{
 "cells": [
  {
   "cell_type": "code",
   "execution_count": 1,
   "id": "76ebab82-8c15-43d0-aea9-372a6fd4582c",
   "metadata": {},
   "outputs": [
    {
     "name": "stdout",
     "output_type": "stream",
     "text": [
      "Hola\n",
      "Hola\n",
      "hola\n",
      "hi\n",
      "hi\n",
      "hola\n",
      "hola mundo\n"
     ]
    }
   ],
   "source": [
    "#1  ¿Cuál es el resultado de ?\n",
    "a, b, c = 10, 20, 30\n",
    "if a == 10:\n",
    "    print (\"Hola\")\n",
    "if a==10 and b <25:\n",
    "    print (\"Hola\")\n",
    "if a==10 or b <25:\n",
    "    print (\"hola\")\n",
    "if a>10:\n",
    "    print (\"hola\")\n",
    "else:\n",
    "    print (\"hi\")\n",
    "if a <10:\n",
    "    print (\"hola\")\n",
    "elif a>10:\n",
    "    print (\"hola mundo\")\n",
    "else:\n",
    "    print (\"hi\")\n",
    "if a==10 and b<=30:\n",
    "    print (\"hola\")\n",
    "if c < 50:\n",
    "    print (\"hola mundo\")\n",
    "else:\n",
    "    print (\"hi\")"
   ]
  },
  {
   "cell_type": "code",
   "execution_count": 4,
   "id": "0f61f03f-43f3-4547-a9b2-173b87564a87",
   "metadata": {},
   "outputs": [
    {
     "name": "stdout",
     "output_type": "stream",
     "text": [
      "PASS\n"
     ]
    }
   ],
   "source": [
    "#2. ¿Para que se usa la sentencia pass? ¿Qué pasa si lo sacamos del siguiente ejemplo?\n",
    "a = 33\n",
    "b = 200\n",
    "if b > a:\n",
    "    pass\n",
    "    print(\"PASS\")"
   ]
  },
  {
   "cell_type": "code",
   "execution_count": 14,
   "id": "3de44507-0c5e-47a4-bdcf-380aa8d8a1ef",
   "metadata": {},
   "outputs": [],
   "source": [
    "if b > a:\n",
    "    pass\n",
    "else:\n",
    "    print(\"NO PASS\")"
   ]
  },
  {
   "cell_type": "code",
   "execution_count": 16,
   "id": "1311214a-40f5-42e9-87ac-213d4ee5b649",
   "metadata": {},
   "outputs": [
    {
     "name": "stdout",
     "output_type": "stream",
     "text": [
      "1\n",
      "2\n",
      "3\n",
      "4\n",
      "5\n"
     ]
    }
   ],
   "source": [
    "#3. ¿Qué hace el siguiente script ? itera del 1 al 5 , imprimiendo \n",
    "i = 1\n",
    "while i < 6:\n",
    "    print(i)\n",
    "    i += 1"
   ]
  },
  {
   "cell_type": "code",
   "execution_count": 22,
   "id": "ce51c15d-30a1-49bd-b1cd-08b9d5a321d0",
   "metadata": {},
   "outputs": [
    {
     "name": "stdout",
     "output_type": "stream",
     "text": [
      "Elemento arroz\n",
      "Elemento pollo\n",
      "Elemento pasta\n"
     ]
    }
   ],
   "source": [
    "# 4. Genere un bucle for para recorra e imprima a pantalla la siguiente lista: [“arroz”, “pollo”, “pasta”]\n",
    "lista = [\"arroz\", \"pollo\", \"pasta\"]\n",
    "for item in lista :\n",
    "    print(f\"Elemento {item}\")"
   ]
  },
  {
   "cell_type": "code",
   "execution_count": 58,
   "id": "f6309bac-fa24-4ed2-9524-427338df366f",
   "metadata": {},
   "outputs": [
    {
     "name": "stdout",
     "output_type": "stream",
     "text": [
      "D-e-v-O-p-s"
     ]
    }
   ],
   "source": [
    "# 5. Genere un bucle for para que imprima en pantalla el string “DevOps” pero insertando un guion entre cada letra.\n",
    "str = \"DevOps\"\n",
    "for a in str:\n",
    "    if a == str[-1]:\n",
    "        print(f\"{a}\", end=\"\")\n",
    "    else:\n",
    "        print(f\"{a}-\", end=\"\")"
   ]
  },
  {
   "cell_type": "code",
   "execution_count": 39,
   "id": "d920afae-3e14-4f98-9b80-9ac17c05982b",
   "metadata": {},
   "outputs": [
    {
     "name": "stdout",
     "output_type": "stream",
     "text": [
      "1 - 3 4 5 \n",
      "1 2 - 4 5 \n",
      "1 2 3 - 5 \n",
      "1 2 3 4 - \n"
     ]
    }
   ],
   "source": [
    "# 6. Use dos bucles anidados para generar el siguiente patrón:- 2 3 4 5\n",
    "# 1 - 3 4 5\n",
    "# 1 2 - 4 5\n",
    "# 1 2 3 - 5\n",
    "# 1 2 3 4 -\n",
    "for i in range(1,5):\n",
    "    for j in range(1,6):\n",
    "        if j==i+1:\n",
    "            print(\"-\",end=' ')\n",
    "        else:\n",
    "            print(j,end=' ')\n",
    "    print()"
   ]
  },
  {
   "cell_type": "code",
   "execution_count": 44,
   "id": "062eb8f9-6135-4995-91c2-b1246de306bd",
   "metadata": {},
   "outputs": [
    {
     "name": "stdout",
     "output_type": "stream",
     "text": [
      "0 1 4 9 16 25 36 49 64 81 100 "
     ]
    }
   ],
   "source": [
    "#7. Escriba un script Python para imprimir el cuadrado de todos los números del 0 al 10.\n",
    "for a in range(11):\n",
    "    print(f\"{a**2} \", end=\"\")"
   ]
  },
  {
   "cell_type": "code",
   "execution_count": 45,
   "id": "8234a652-a8e7-445d-8ffd-08ca66330116",
   "metadata": {},
   "outputs": [
    {
     "name": "stdout",
     "output_type": "stream",
     "text": [
      "None\n"
     ]
    }
   ],
   "source": [
    "# 8. Todas las funciones en Python por defecto devuelven ...? \n",
    "def mi_funcion():\n",
    "    # No hay declaración de retorno, por lo que la función devuelve None\n",
    "    pass\n",
    "\n",
    "resultado = mi_funcion()\n",
    "print(resultado)  # Esto imprimirá 'None'\n"
   ]
  },
  {
   "cell_type": "code",
   "execution_count": 47,
   "id": "f3718dde-c24b-43ef-a763-537c408771cd",
   "metadata": {},
   "outputs": [],
   "source": [
    "#9. ¿Cómo podemos hacer que un parámetro de una función sea opcional? \n",
    "#Agregando parametros con valores por defecto o agregando un diccionario con parametros que se pùeden modficar "
   ]
  },
  {
   "cell_type": "code",
   "execution_count": 49,
   "id": "1120ab13-327d-4e39-b788-9406f0c3eb29",
   "metadata": {},
   "outputs": [
    {
     "data": {
      "text/plain": [
       "\"\\ndef resta(a, b):\\n    return a - b\\n#Llamada a la función con argumentos en orden aleatorio\\nresultado = resta(b=5, a=10)\\nprint(resultado)  # Esto imprimirá '5'\\n\""
      ]
     },
     "execution_count": 49,
     "metadata": {},
     "output_type": "execute_result"
    }
   ],
   "source": [
    "#10. ¿Cómo podemos hacer para invocar a una funciona indicando los argumentos en un orden aleatorio? Haciendo referencia a que parametros \n",
    "\"\"\"\n",
    "def resta(a, b):\n",
    "    return a - b\n",
    "#Llamada a la función con argumentos en orden aleatorio\n",
    "resultado = resta(b=5, a=10)\n",
    "print(resultado)  # Esto imprimirá '5'\n",
    "\"\"\""
   ]
  },
  {
   "cell_type": "code",
   "execution_count": 50,
   "id": "e3a0e0bb-c341-4190-ab31-38a5fed7490a",
   "metadata": {},
   "outputs": [],
   "source": [
    "#11. ¿Qué sucede cuando anteponemos un parámetro con un asterisco (*)? #Arg indeterminados - Posición , lo toma como una lista con nuevos elemenos "
   ]
  },
  {
   "cell_type": "code",
   "execution_count": 51,
   "id": "5da819b5-6e56-4ab7-839c-503c1fe6682c",
   "metadata": {},
   "outputs": [],
   "source": [
    "#12. ¿Qué pasa con dos asteriscos (**)? #Arg indeterminados – Nombre , genera una tupla con el nombre y el valor contenido del elemento"
   ]
  },
  {
   "cell_type": "code",
   "execution_count": 64,
   "id": "cc36a728-2992-4466-b7f0-01a820cce984",
   "metadata": {},
   "outputs": [
    {
     "name": "stdout",
     "output_type": "stream",
     "text": [
      "3\n",
      "6\n"
     ]
    }
   ],
   "source": [
    "#13. Escriba una función que realice la suma de una cantidad indeterminada de argumentos.\n",
    "def sumar(*cantidades):\n",
    "    total=0\n",
    "    for c in cantidades:\n",
    "        total+=c\n",
    "    return total\n",
    "\n",
    "print(sumar(1,2))\n",
    "print(sumar(1,2,3))"
   ]
  },
  {
   "cell_type": "code",
   "execution_count": 70,
   "id": "8dda612a-3246-4c95-aac2-75ee57e75eff",
   "metadata": {},
   "outputs": [
    {
     "name": "stdout",
     "output_type": "stream",
     "text": [
      "Tabla del 5\n",
      "0 x 5 = 0\n",
      "1 x 5 = 5\n",
      "2 x 5 = 10\n",
      "3 x 5 = 15\n",
      "4 x 5 = 20\n",
      "5 x 5 = 25\n",
      "6 x 5 = 30\n",
      "7 x 5 = 35\n",
      "8 x 5 = 40\n",
      "9 x 5 = 45\n",
      "10 x 5 = 50\n",
      "Tabla del 9\n",
      "0 x 9 = 0\n",
      "1 x 9 = 9\n",
      "2 x 9 = 18\n",
      "3 x 9 = 27\n",
      "4 x 9 = 36\n",
      "5 x 9 = 45\n",
      "6 x 9 = 54\n",
      "7 x 9 = 63\n",
      "8 x 9 = 72\n",
      "9 x 9 = 81\n",
      "10 x 9 = 90\n",
      "Tabla del 2\n",
      "0 x 2 = 0\n",
      "1 x 2 = 2\n",
      "2 x 2 = 4\n",
      "3 x 2 = 6\n",
      "4 x 2 = 8\n",
      "5 x 2 = 10\n",
      "6 x 2 = 12\n",
      "7 x 2 = 14\n",
      "8 x 2 = 16\n",
      "9 x 2 = 18\n",
      "10 x 2 = 20\n"
     ]
    }
   ],
   "source": [
    "# 14. Escriba una función que imprima la tabla de multiplicar de un número dado.\n",
    "def tabla(numero):\n",
    "    print(f\"Tabla del {numero}\")\n",
    "    for i in range(11):\n",
    "        print(f\"{i} x {numero} = {i*numero}\")\n",
    "    pass\n",
    "\n",
    "tabla(5)\n",
    "tabla(9)\n",
    "tabla(2)\n"
   ]
  },
  {
   "cell_type": "code",
   "execution_count": 74,
   "id": "c5b94f1d-ff6b-43a1-8d4f-226e375c4b2b",
   "metadata": {},
   "outputs": [
    {
     "name": "stdout",
     "output_type": "stream",
     "text": [
      "{'suma': 3, 'resta': -1, 'multiplicacion': 2, 'division': 0.5}\n",
      "{'suma': 15, 'resta': -5, 'multiplicacion': 50, 'division': 0.5}\n"
     ]
    }
   ],
   "source": [
    "#15 Escriba una función que retorne al mismo tiempo la suma, resta, multiplicación y división de dos números dados.\n",
    "def operaciones(a,b):\n",
    "    operador = {\"suma\":a+b,\"resta\":a-b,\"multiplicacion\":a*b,\"division\":a/b }\n",
    "    return operador\n",
    "\n",
    "print(operaciones(1,2))\n",
    "print(operaciones(5,10))\n"
   ]
  },
  {
   "cell_type": "code",
   "execution_count": 75,
   "id": "8d92f934-bfae-4234-83c8-5e7fa50463ed",
   "metadata": {},
   "outputs": [],
   "source": [
    "# 16. ¿Qué operador permite obtener el resto de una división?     %"
   ]
  },
  {
   "cell_type": "code",
   "execution_count": 76,
   "id": "46cc5e4e-c9ba-4d9c-8436-65782f83abdd",
   "metadata": {},
   "outputs": [],
   "source": [
    "#17. ¿Qué operador permite indicar el exponente de un número?     **"
   ]
  },
  {
   "cell_type": "code",
   "execution_count": 77,
   "id": "cad86d94-8609-48cd-af71-c989029f88da",
   "metadata": {},
   "outputs": [],
   "source": [
    "#18. ¿A qué es equivalente los operadores de asignación?   +=  -= *= **= /= %= , se actualiza en la variable los valores"
   ]
  },
  {
   "cell_type": "code",
   "execution_count": 78,
   "id": "1acc44d8-7e67-4957-b2f2-099301642d3b",
   "metadata": {},
   "outputs": [],
   "source": [
    "#19 ¿Cuales son los operadores para determinar que dos elementos son iguales o diferentes ? IGUAL == DIFERENTE != "
   ]
  },
  {
   "cell_type": "code",
   "execution_count": 81,
   "id": "5370eb37-3d8e-439c-ab5a-400dac954551",
   "metadata": {},
   "outputs": [
    {
     "name": "stdout",
     "output_type": "stream",
     "text": [
      "True\n",
      "True\n",
      "True\n"
     ]
    }
   ],
   "source": [
    "#20. ¿Qué retorna ?\n",
    "# True and True True\n",
    "# False or True True\n",
    "# not False True\n",
    "print(True and True)\n",
    "print(False or True)\n",
    "print(not False)"
   ]
  },
  {
   "cell_type": "code",
   "execution_count": 82,
   "id": "03435ce3-bad7-4ff3-aadc-86dd5fcaf0c7",
   "metadata": {},
   "outputs": [
    {
     "name": "stdout",
     "output_type": "stream",
     "text": [
      "True\n"
     ]
    }
   ],
   "source": [
    "#21. ¿Cuál es el resultado ?\n",
    "# a=5\n",
    "# b=5\n",
    "# a is b True\n",
    "\n",
    "a=5\n",
    "b=5\n",
    "print(a is b)"
   ]
  },
  {
   "cell_type": "code",
   "execution_count": 83,
   "id": "365538c8-3b0a-49e1-98a8-115b20d88bb3",
   "metadata": {},
   "outputs": [
    {
     "data": {
      "text/plain": [
       "True"
      ]
     },
     "execution_count": 83,
     "metadata": {},
     "output_type": "execute_result"
    }
   ],
   "source": [
    "#22. ¿Cómo consultamos si Dev se encuentra dentro de DevOps? \n",
    "\"Dev\" in \"DevOps\""
   ]
  },
  {
   "cell_type": "code",
   "execution_count": 84,
   "id": "22a22fca-44f7-4026-aa94-99e3158c53cf",
   "metadata": {},
   "outputs": [
    {
     "name": "stdout",
     "output_type": "stream",
     "text": [
      "Hola Guille\n"
     ]
    }
   ],
   "source": [
    "#23. ¿Cómo se puede concatenar dos strings ?\n",
    "str1= \"Hola\"\n",
    "str2=\" Guille\"\n",
    "str3=str1+str2\n",
    "print(str3)"
   ]
  },
  {
   "cell_type": "code",
   "execution_count": 85,
   "id": "a1519e6a-63e8-48d5-9ade-3ad5e892530f",
   "metadata": {},
   "outputs": [
    {
     "name": "stdout",
     "output_type": "stream",
     "text": [
      "HolaHolaHolaHolaHola\n"
     ]
    }
   ],
   "source": [
    "#24 ¿Cuál es el resultado de \"Hola \" *5 ? Se repetira 5 veces Hola\n",
    "str =\"Hola\"\n",
    "print(str*5)"
   ]
  },
  {
   "cell_type": "code",
   "execution_count": 88,
   "id": "2d2c9fec-299c-4b73-b685-35900509c238",
   "metadata": {},
   "outputs": [
    {
     "data": {
      "text/plain": [
       "4"
      ]
     },
     "execution_count": 88,
     "metadata": {},
     "output_type": "execute_result"
    }
   ],
   "source": [
    "#25 ¿Cuál es el resultado ? Realiza el desplazamiento del bit a al izquierda\n",
    "a=1\n",
    "a<<2"
   ]
  },
  {
   "cell_type": "code",
   "execution_count": 90,
   "id": "5b865d03-0996-4f12-bc96-08846b4ec2e3",
   "metadata": {},
   "outputs": [
    {
     "data": {
      "text/plain": [
       "'\\n\"Un identificador es un nombre definido por el usuario para \\nrepresentar una variable, una función, una clase, un módulo o \\ncualquier otro objeto\". 5 reglas para nombrar identificadores en \\nPython:\\n 1) Puede ser una combinación de letras minúsculas (a-z) / mayúsculas (A\\nZ), dígitos (0-9) o un guión bajo (_).\\n 2) No puede empezar con un dígito.\\n 3) No podemos usar símbolos especiales (! @ # $ % .)\\n 4) No se puede usar las palabras reservadas.\\n 5) Puede tener cualquier largo.\\n '"
      ]
     },
     "execution_count": 90,
     "metadata": {},
     "output_type": "execute_result"
    }
   ],
   "source": [
    "# 26. ¿Cuales son las 5 reglas para nombrar identificadores en python?\n",
    "\"\"\"\n",
    "\"Un identificador es un nombre definido por el usuario para \n",
    "representar una variable, una función, una clase, un módulo o \n",
    "cualquier otro objeto\". 5 reglas para nombrar identificadores en \n",
    "Python:\n",
    " 1) Puede ser una combinación de letras minúsculas (a-z) / mayúsculas (A\n",
    "Z), dígitos (0-9) o un guión bajo (_).\n",
    " 2) No puede empezar con un dígito.\n",
    " 3) No podemos usar símbolos especiales (! @ # $ % .)\n",
    " 4) No se puede usar las palabras reservadas.\n",
    " 5) Puede tener cualquier largo.\n",
    " \"\"\""
   ]
  },
  {
   "cell_type": "code",
   "execution_count": 92,
   "id": "2070a21a-739c-4681-8d8f-49d20c75fe24",
   "metadata": {},
   "outputs": [],
   "source": [
    "#27. ¿Python diferencia entre mayúsculas y minúsculas ? SI DIFERECNIA\n"
   ]
  },
  {
   "cell_type": "code",
   "execution_count": 95,
   "id": "918ef29a-e058-41c8-96f6-7e8909559a79",
   "metadata": {},
   "outputs": [
    {
     "data": {
      "text/plain": [
       "['False',\n",
       " 'None',\n",
       " 'True',\n",
       " 'and',\n",
       " 'as',\n",
       " 'assert',\n",
       " 'async',\n",
       " 'await',\n",
       " 'break',\n",
       " 'class',\n",
       " 'continue',\n",
       " 'def',\n",
       " 'del',\n",
       " 'elif',\n",
       " 'else',\n",
       " 'except',\n",
       " 'finally',\n",
       " 'for',\n",
       " 'from',\n",
       " 'global',\n",
       " 'if',\n",
       " 'import',\n",
       " 'in',\n",
       " 'is',\n",
       " 'lambda',\n",
       " 'nonlocal',\n",
       " 'not',\n",
       " 'or',\n",
       " 'pass',\n",
       " 'raise',\n",
       " 'return',\n",
       " 'try',\n",
       " 'while',\n",
       " 'with',\n",
       " 'yield']"
      ]
     },
     "execution_count": 95,
     "metadata": {},
     "output_type": "execute_result"
    }
   ],
   "source": [
    "# 28. ¿Cómo podemos listar las palabras reservadas?\n",
    ">>> import keyword\n",
    ">>> keyword.kwlist"
   ]
  },
  {
   "cell_type": "code",
   "execution_count": 96,
   "id": "83716977-6924-4fb1-965b-2f5b97d78607",
   "metadata": {},
   "outputs": [],
   "source": [
    "#29. ¿Cómo asignamos múltiples valores al mismo tiempo? a, b, c= 1, 2,3 \n"
   ]
  },
  {
   "cell_type": "code",
   "execution_count": 97,
   "id": "ec9b9d4a-88ba-4ea2-a024-828b1e76eff0",
   "metadata": {},
   "outputs": [
    {
     "name": "stdout",
     "output_type": "stream",
     "text": [
      "5\n"
     ]
    }
   ],
   "source": [
    "#30 ¿Es correcto asignar el mismo valor a múltiples variables de la siguiente forma?  var1=var2 ...= n si \n",
    "a=b=5\n",
    "print(a)"
   ]
  },
  {
   "cell_type": "code",
   "execution_count": 2,
   "id": "12dbf430-63ed-4fbc-962d-53b4bc1d0d90",
   "metadata": {},
   "outputs": [
    {
     "name": "stdout",
     "output_type": "stream",
     "text": [
      "True\n"
     ]
    }
   ],
   "source": [
    "#31. Si a es igual a 1. ¿Como lo podemos convertir a bool? b=bool(1)\n",
    "a = bool(1)\n",
    "print(a)"
   ]
  },
  {
   "cell_type": "code",
   "execution_count": 3,
   "id": "5659257f-c1c7-4147-a98b-5285269fc9ab",
   "metadata": {},
   "outputs": [
    {
     "name": "stdout",
     "output_type": "stream",
     "text": [
      "12345\n"
     ]
    }
   ],
   "source": [
    "#32. ¿Como podemos convertir un valor cualquiera en string?  a = str(1234)\n",
    "a=str(1234)\n",
    "a+=\"5\"\n",
    "print(a)\n"
   ]
  },
  {
   "cell_type": "code",
   "execution_count": 4,
   "id": "0be8f4d1-67c9-45d6-8596-ede6aa13bb60",
   "metadata": {},
   "outputs": [],
   "source": [
    "# 33. ¿Cuál es la diferencia entre variables locales y globales? LOCAL entorno a una funcion y GLOBAL entorno al contexto principal del programa"
   ]
  },
  {
   "cell_type": "code",
   "execution_count": 8,
   "id": "4a1ba9e6-51b6-49db-843d-f30bc54c482c",
   "metadata": {},
   "outputs": [
    {
     "name": "stdout",
     "output_type": "stream",
     "text": [
      "0\n",
      "1\n"
     ]
    }
   ],
   "source": [
    "# 34. ¿Por qué falla el siguente código? Es necesario aclarar que a es una varaible GLOBAL en ese entorno de ejecucion a no tiene asignacion \n",
    "# por eso no puede imprimir el valor de a\n",
    "a=0\n",
    "def func(): \n",
    "    global a \n",
    "    print(a)\n",
    "    a=1\n",
    "    print(a)       \n",
    "func()"
   ]
  },
  {
   "cell_type": "code",
   "execution_count": 11,
   "id": "64e7ae08-9d78-4b01-b197-1341667b4ae7",
   "metadata": {},
   "outputs": [
    {
     "name": "stdout",
     "output_type": "stream",
     "text": [
      "20.0\n"
     ]
    }
   ],
   "source": [
    "# 35. En el script siguiente, las variables a, b, c y d son variables locales de la función promedio. \n",
    "#El alcance / ámbito de esas variables está en la función promedio, por lo que este script \n",
    "#arrojará un error si intentamos usarlas fuera de la función. Verifique.\n",
    "def promedio (a,b,c):\n",
    "    d = (a + b + c ) / 3\n",
    "    return d\n",
    "resultado = promedio (10,20,30)\n",
    "print (resultado)\n",
    "#la funcion retorna un valor que debe ser asignado a una variable , la variable d muere su existencia al retornar el valor "
   ]
  },
  {
   "cell_type": "code",
   "execution_count": 13,
   "id": "cce96f3f-742a-45d5-8cf6-709b32c13a0c",
   "metadata": {},
   "outputs": [
    {
     "name": "stdout",
     "output_type": "stream",
     "text": [
      "a es 10\n",
      "20.0\n"
     ]
    }
   ],
   "source": [
    "# 36. Las variables definidas fuera de la función se tratan como variables globales y estarán \n",
    "#disponibles en todas las funciones. Verifique con el ejemplo siguiente:\n",
    "a = 10\n",
    "def promedio (b,c):\n",
    "    print (\"a es\", a)\n",
    "    d = ( a + b + c ) / 3\n",
    "    return d\n",
    "print (promedio(20, 30))"
   ]
  },
  {
   "cell_type": "code",
   "execution_count": 14,
   "id": "2f6464be-04d8-4d6e-bf00-ef922aba38a2",
   "metadata": {},
   "outputs": [
    {
     "name": "stdout",
     "output_type": "stream",
     "text": [
      "promedio es 30.0\n",
      "variable local ‘a’ es 40\n",
      "global variable ‘a’ es aún 10\n"
     ]
    }
   ],
   "source": [
    "# 37. Si asignamos un valor a una variable usando \"=\" dentro de una función, esa variable se \n",
    "#convertirá en una variable local (incluso si se usa el mismo nombre en el ámbito global).\n",
    "#Verifique con el siguiente ejemplo:\n",
    "a = 10\n",
    "def promedio (b, c):\n",
    "    a = 40\n",
    "    d = ( a + b + c ) / 3\n",
    "    print (\"promedio es\", d)\n",
    "    print (\"variable local ‘a’ es\", a)\n",
    "    \n",
    "promedio(20,30)\n",
    "print (\"global variable ‘a’ es aún\", a)"
   ]
  },
  {
   "cell_type": "code",
   "execution_count": 15,
   "id": "2712a11e-e9b7-4045-a47e-4918cb1e18cd",
   "metadata": {},
   "outputs": [
    {
     "name": "stdout",
     "output_type": "stream",
     "text": [
      "variable 'a' dentro de la funcion es  10\n",
      "promedio es 20.0\n",
      "variable global 'a' es ahora 40\n"
     ]
    }
   ],
   "source": [
    "#38. Con la sentencia global podemos asignar o modificar el valor de una variable global dentro \n",
    "#de una función. Verifique:\n",
    "a = 10\n",
    "def promedio (b,c):\n",
    "    global a\n",
    "    print (\"variable 'a' dentro de la funcion es \", a)\n",
    "    d = ( a + b + c ) / 3\n",
    "    print (\"promedio es\",d)\n",
    "    a = 40 #Esto cambia el valor de a localmente y globalmente\n",
    "promedio (20,30)\n",
    "print (\"variable global 'a' es ahora\", a)"
   ]
  },
  {
   "cell_type": "code",
   "execution_count": 23,
   "id": "f02be5af-8bef-4fba-a00f-5d032998ce10",
   "metadata": {},
   "outputs": [
    {
     "name": "stdout",
     "output_type": "stream",
     "text": [
      "Palabra usando 12345\n",
      "Palabra usando 12345\n"
     ]
    }
   ],
   "source": [
    "# 39. ¿Cómo se puede imprimir de forma conjunta variables y texto usando la función print y comas? \n",
    "#USANDO f-str\n",
    "palabra=\"Palabra\"\n",
    "numero=12345\n",
    "print(f\"{palabra} usando {numero}\")\n",
    "#USANDO COMA\n",
    "print(palabra,\"usando\", numero)"
   ]
  },
  {
   "cell_type": "code",
   "execution_count": 25,
   "id": "7f573acf-4394-400b-9472-30a73d9e49ab",
   "metadata": {},
   "outputs": [
    {
     "name": "stdout",
     "output_type": "stream",
     "text": [
      "El curso DevOps se dicta en el salón 222 \n"
     ]
    }
   ],
   "source": [
    "# 40. Si tenemos las variables: curso=”DevOps” y salon=222 ¿Como hacemos para generar la siguiente menjaje usando el viejo operador %?\n",
    "curso=\"DevOps\"\n",
    "salon=222\n",
    "print(\"El curso %s se dicta en el salón %s \"%(curso,salon))"
   ]
  },
  {
   "cell_type": "code",
   "execution_count": 29,
   "id": "765c419c-c889-4c6b-978c-203ac25fbfc3",
   "metadata": {},
   "outputs": [
    {
     "name": "stdout",
     "output_type": "stream",
     "text": [
      "El curso DevOps se dicta en el salón 222\n",
      "El curso DevOps se dicta en el salón 222\n"
     ]
    }
   ],
   "source": [
    "#41. ¿Cómo conseguimos el mismo resultado usando el método format?\n",
    "#OPCION 1\n",
    "curso=\"DevOps\"\n",
    "salon=222\n",
    "print(\"El curso {0} se dicta en el salón {1}\".format(curso,salon))\n",
    "#OPCION 2\n",
    "curso=\"DevOps\"\n",
    "salon=222\n",
    "print(\"El curso {c} se dicta en el salón {s}\".format(c=curso,s=salon))"
   ]
  },
  {
   "cell_type": "code",
   "execution_count": 31,
   "id": "43444075-bd4c-414c-b04b-58026731a7b7",
   "metadata": {},
   "outputs": [
    {
     "name": "stdout",
     "output_type": "stream",
     "text": [
      "El curso DevOps se dicta en el salón 222\n"
     ]
    }
   ],
   "source": [
    "#42. ¿Cómo conseguimos el mismo resultado usando f-string?\n",
    "curso=\"DevOps\"\n",
    "salon=222\n",
    "print(f\"El curso {curso} se dicta en el salón {salon}\")"
   ]
  },
  {
   "cell_type": "code",
   "execution_count": null,
   "id": "135c9030-6f1d-4324-afae-82caf80c9285",
   "metadata": {},
   "outputs": [],
   "source": []
  }
 ],
 "metadata": {
  "kernelspec": {
   "display_name": "Python 3 (ipykernel)",
   "language": "python",
   "name": "python3"
  },
  "language_info": {
   "codemirror_mode": {
    "name": "ipython",
    "version": 3
   },
   "file_extension": ".py",
   "mimetype": "text/x-python",
   "name": "python",
   "nbconvert_exporter": "python",
   "pygments_lexer": "ipython3",
   "version": "3.11.7"
  }
 },
 "nbformat": 4,
 "nbformat_minor": 5
}
