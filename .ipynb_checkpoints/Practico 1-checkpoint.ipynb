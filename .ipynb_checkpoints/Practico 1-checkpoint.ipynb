{
 "cells": [
  {
   "cell_type": "code",
   "execution_count": 100,
   "id": "73ad5896-679c-4aff-ba40-5bc93dd69db8",
   "metadata": {},
   "outputs": [
    {
     "name": "stdout",
     "output_type": "stream",
     "text": [
      "Hola Mundo\n"
     ]
    }
   ],
   "source": [
    "#1\n",
    "print(\"Hola Mundo\") "
   ]
  },
  {
   "cell_type": "code",
   "execution_count": 101,
   "id": "aedd6771-fa8d-4bef-adf4-b7ccedc9626d",
   "metadata": {},
   "outputs": [
    {
     "name": "stdout",
     "output_type": "stream",
     "text": [
      "3.11.7 | packaged by Anaconda, Inc. | (main, Dec 15 2023, 18:05:47) [MSC v.1916 64 bit (AMD64)]\n"
     ]
    }
   ],
   "source": [
    "#2\n",
    "import sys \n",
    "print(sys.version) #Practico 1 Nº2"
   ]
  },
  {
   "cell_type": "code",
   "execution_count": 16,
   "id": "d71e2a2a-5f3a-48c9-8298-75ee5935ef64",
   "metadata": {},
   "outputs": [
    {
     "name": "stdout",
     "output_type": "stream",
     "text": [
      "Hola Mundo\n"
     ]
    }
   ],
   "source": [
    "print(\"Hola Mundo\") #Comentario de linea\n",
    "#Practico 1 Nº3\n"
   ]
  },
  {
   "cell_type": "code",
   "execution_count": 18,
   "id": "25ddbda7-38a4-4551-9d17-bb05c50e7cfa",
   "metadata": {},
   "outputs": [
    {
     "data": {
      "text/plain": [
       "'Comentario en Bloque\\nSe agregan salto y espacios '"
      ]
     },
     "execution_count": 18,
     "metadata": {},
     "output_type": "execute_result"
    }
   ],
   "source": [
    "\"\"\"Comentario en Bloque\n",
    "Se agregan salto y espacios \"\"\" \n",
    "#Practico 1 Nº4\n"
   ]
  },
  {
   "cell_type": "code",
   "execution_count": 20,
   "id": "46844ba8-3ba7-48a1-a462-33ee2f1c0aa3",
   "metadata": {},
   "outputs": [],
   "source": [
    "a=12\n",
    "b=235.5\n",
    "c=\"Cadena String\" \n",
    "#Practico 1 Nº5"
   ]
  },
  {
   "cell_type": "code",
   "execution_count": 21,
   "id": "ad98a5e9-b628-43cb-886f-211af83c2a48",
   "metadata": {},
   "outputs": [
    {
     "name": "stdout",
     "output_type": "stream",
     "text": [
      "<class 'int'>\n",
      "<class 'float'>\n",
      "<class 'str'>\n"
     ]
    }
   ],
   "source": [
    "x = type(a)\n",
    "y = type(b)\n",
    "z = type(c)\n",
    "\n",
    "print(x)  # class int\n",
    "print(y)  # class 'real\n",
    "print(z)  # class string\n",
    "\n",
    "#Practico 1 Nº5"
   ]
  },
  {
   "cell_type": "code",
   "execution_count": 23,
   "id": "983b7d91-92f6-47db-b85c-c2ccbbd966a7",
   "metadata": {},
   "outputs": [],
   "source": [
    "#¿Cuántos tipos de datos numéricos incluye python por defecto? \n",
    "#Decimal: 24, 60 , Binario: 0b010011, 0b1101 , Hexadecimal: 0x18, 0x3cf4 , Octal: 0o30, 0o74"
   ]
  },
  {
   "cell_type": "code",
   "execution_count": 24,
   "id": "e54f012a-1513-4bd0-94b6-266e84aba0ea",
   "metadata": {},
   "outputs": [],
   "source": [
    " #¿Cuáles son los valores posibles del tipo bool ? ¿ true es igual que True? Verdadero /False  - True es el valor correcto"
   ]
  },
  {
   "cell_type": "code",
   "execution_count": 1,
   "id": "bdc5264c-562f-4920-865d-6e390ed2247d",
   "metadata": {},
   "outputs": [],
   "source": [
    "#¿A qué número se corresponde el valor False ? Es CERO 0 \n"
   ]
  },
  {
   "cell_type": "code",
   "execution_count": 3,
   "id": "7cab1d76-408b-4c0d-b193-92f6a840b202",
   "metadata": {},
   "outputs": [],
   "source": [
    "#Defina el valor entero 12 en decimal, binario, hexadecimal y octal.\n",
    "#Decimal: 12\n",
    "#Binario: 1100\n",
    "#Hexadecimal: 0xC\n",
    "#Octal: 14"
   ]
  },
  {
   "cell_type": "code",
   "execution_count": 4,
   "id": "7251d4f2-83d2-4630-9c91-4b0d0b768429",
   "metadata": {},
   "outputs": [],
   "source": [
    "#¿Cómo se define un número real (punto flotante)? Un número real, también conocido como punto flotante en Python, se define utilizando un punto decimal o la notación científica. Por ejemplo: 3.14, 2.5e2."
   ]
  },
  {
   "cell_type": "code",
   "execution_count": 5,
   "id": "3be5431f-6399-478d-b0b1-15a7b798cf35",
   "metadata": {},
   "outputs": [],
   "source": [
    "#¿Qué precisión tiene su equipo usando números reales?\n",
    "#La precisión de los números reales en Python depende del tipo de datos utilizado. Normalmente, Python utiliza números de punto flotante de doble precisión según el estándar IEEE 754, lo que proporciona aproximadamente 15 dígitos decimales de precisión."
   ]
  },
  {
   "cell_type": "code",
   "execution_count": 6,
   "id": "b1a668e6-4fb3-49bb-b651-d97bb01e1c5f",
   "metadata": {},
   "outputs": [],
   "source": [
    "#¿Cómo se define un string? Como una array de caracteres "
   ]
  },
  {
   "cell_type": "code",
   "execution_count": 7,
   "id": "f8a476a0-5ded-44b2-b65e-e42b67698b05",
   "metadata": {},
   "outputs": [],
   "source": [
    "#¿Qué significa el valor None? ¿Cómo se usa? None en Python representa la ausencia de valor o la falta de definición. \n",
    "#Se utiliza para indicar que una variable no tiene ningún valor asignado. Por ejemplo, una función que no devuelve nada implícitamente devuelve None."
   ]
  },
  {
   "cell_type": "code",
   "execution_count": 8,
   "id": "93f686f7-43df-4766-8fb5-634cc8a1add4",
   "metadata": {},
   "outputs": [],
   "source": [
    "#Suponiendo (nombre = \"DevOps\"), ¿Qué devuelve el nombre[1]? Devuelve el carácter en la posición 1 de la cadena, que es 'e'."
   ]
  },
  {
   "cell_type": "code",
   "execution_count": 10,
   "id": "8db37e4f-c08f-4374-98d4-fa95cae43191",
   "metadata": {},
   "outputs": [
    {
     "data": {
      "text/plain": [
       "'\\n¿Qué pasa con el nombre[-2]?\\nDevuelve el penúltimo carácter de la cadena, que es \\'p\\'.\\n¿Qué pasa con el nombre[1: -1]?\\nDevuelve una subcadena que comienza desde el segundo carácter y termina en el penúltimo carácter, es decir, \"evOp\".\\n¿Cómo obtener la longitud de nombre?\\nSe puede obtener la longitud de una cadena utilizando la función len(). Por ejemplo, len(nombre) devolvería 6.\\n¿Qué retorna nombre.title()?\\nRetorna una versión de la cadena donde la primera letra de cada palabra está en mayúscula y el resto en minúscula. En este caso, retornaría \"Devops\".\\n'"
      ]
     },
     "execution_count": 10,
     "metadata": {},
     "output_type": "execute_result"
    }
   ],
   "source": [
    "\"\"\"\n",
    "¿Qué pasa con el nombre[-2]?\n",
    "Devuelve el penúltimo carácter de la cadena, que es 'p'.\n",
    "¿Qué pasa con el nombre[1: -1]?\n",
    "Devuelve una subcadena que comienza desde el segundo carácter y termina en el penúltimo carácter, es decir, \"evOp\".\n",
    "¿Cómo obtener la longitud de nombre?\n",
    "Se puede obtener la longitud de una cadena utilizando la función len(). Por ejemplo, len(nombre) devolvería 6.\n",
    "¿Qué retorna nombre.title()?\n",
    "Retorna una versión de la cadena donde la primera letra de cada palabra está en mayúscula y el resto en minúscula. En este caso, retornaría \"Devops\".\n",
    "\"\"\"\n"
   ]
  },
  {
   "cell_type": "code",
   "execution_count": 12,
   "id": "f3f8155f-3f6b-44db-b9b5-35bde6b69710",
   "metadata": {},
   "outputs": [
    {
     "data": {
      "text/plain": [
       "'\\nSi nombre=\"Programación para DevOps\". ¿Cómo podemos verificar si el nombre contiene \"DevOps\" con el método find?\\nSe puede usar el método find() para verificar si \"DevOps\" está en la cadena. Si devuelve un número mayor o igual que 0, significa que se encontró la subcadena. Por ejemplo:\\npython\\nCopy code\\nif nombre.find(\"DevOps\") != -1:\\n    print(\"La cadena contiene DevOps.\")\\nelse:\\n    print(\"La cadena no contiene DevOps.\")\\n'"
      ]
     },
     "execution_count": 12,
     "metadata": {},
     "output_type": "execute_result"
    }
   ],
   "source": [
    "\"\"\"\n",
    "Si nombre=\"Programación para DevOps\". ¿Cómo podemos verificar si el nombre contiene \"DevOps\" con el método find?\n",
    "Se puede usar el método find() para verificar si \"DevOps\" está en la cadena. Si devuelve un número mayor o igual que 0, significa que se encontró la subcadena. Por ejemplo:\n",
    "python\n",
    "Copy code\n",
    "if nombre.find(\"DevOps\") != -1:\n",
    "    print(\"La cadena contiene DevOps.\")\n",
    "else:\n",
    "    print(\"La cadena no contiene DevOps.\")\n",
    "\"\"\""
   ]
  },
  {
   "cell_type": "code",
   "execution_count": 13,
   "id": "b3bb7500-f52d-49c1-beb4-6d59f96179c6",
   "metadata": {},
   "outputs": [
    {
     "data": {
      "text/plain": [
       "'\\nDefinición de una lista:\\n\\nUna lista se define utilizando corchetes [].\\nPuede contener elementos de diferentes tipos, como números, cadenas, booleanos, otras listas, etc.\\nLos elementos de una lista pueden ser modificados (mutable), lo que significa que puedes agregar, \\neliminar o modificar elementos después de crear la lista.\\nEjemplo de definición de una lista:\\npython\\nCopy code\\nmi_lista = [1, 2, \"hola\", True]\\nDefinición de una tupla:\\n\\nUna tupla se define utilizando paréntesis ().\\nAl igual que las listas, puede contener elementos de diferentes tipos.\\nLa principal diferencia es que una vez que se crea una tupla, no se puede modificar (inmutable). Es decir, no puedes agregar, eliminar o modificar elementos individualmente después de crear la tupla.\\nEjemplo de definición de una tupla:\\npython\\nCopy code\\nmi_tupla = (1, 2, \"hola\", True)\\nDiferencias clave:\\n\\nMutabilidad: Las listas son mutables, lo que significa que puedes cambiar su contenido después de crearlas. Las tuplas son inmutables, lo que significa que no puedes cambiar su contenido una vez que se han creado.\\nSintaxis: Las listas se definen utilizando corchetes [], mientras que las tuplas se definen utilizando paréntesis ().\\nUso: Si necesitas una colección de elementos que no cambiarán, como las coordenadas de un punto en un plano cartesiano, las tuplas son adecuadas. \\nSi necesitas una colección de elementos que puedan cambiar, como una lista de tareas pendientes, entonces las listas son más apropiadas.\\n'"
      ]
     },
     "execution_count": 13,
     "metadata": {},
     "output_type": "execute_result"
    }
   ],
   "source": [
    "\"\"\"\n",
    "Definición de una lista:\n",
    "\n",
    "Una lista se define utilizando corchetes [].\n",
    "Puede contener elementos de diferentes tipos, como números, cadenas, booleanos, otras listas, etc.\n",
    "Los elementos de una lista pueden ser modificados (mutable), lo que significa que puedes agregar, \n",
    "eliminar o modificar elementos después de crear la lista.\n",
    "Ejemplo de definición de una lista:\n",
    "python\n",
    "Copy code\n",
    "mi_lista = [1, 2, \"hola\", True]\n",
    "Definición de una tupla:\n",
    "\n",
    "Una tupla se define utilizando paréntesis ().\n",
    "Al igual que las listas, puede contener elementos de diferentes tipos.\n",
    "La principal diferencia es que una vez que se crea una tupla, no se puede modificar (inmutable). Es decir, no puedes agregar, eliminar o modificar elementos individualmente después de crear la tupla.\n",
    "Ejemplo de definición de una tupla:\n",
    "python\n",
    "Copy code\n",
    "mi_tupla = (1, 2, \"hola\", True)\n",
    "Diferencias clave:\n",
    "\n",
    "Mutabilidad: Las listas son mutables, lo que significa que puedes cambiar su contenido después de crearlas. Las tuplas son inmutables, lo que significa que no puedes cambiar su contenido una vez que se han creado.\n",
    "Sintaxis: Las listas se definen utilizando corchetes [], mientras que las tuplas se definen utilizando paréntesis ().\n",
    "Uso: Si necesitas una colección de elementos que no cambiarán, como las coordenadas de un punto en un plano cartesiano, las tuplas son adecuadas. \n",
    "Si necesitas una colección de elementos que puedan cambiar, como una lista de tareas pendientes, entonces las listas son más apropiadas.\n",
    "\"\"\""
   ]
  },
  {
   "cell_type": "code",
   "execution_count": 84,
   "id": "f56556ff-fc6f-48ef-84f4-6bdaebc9a747",
   "metadata": {},
   "outputs": [],
   "source": [
    "#Teniendo en cuanta que a = [10,20,30,40,50,60,70,80,90]. ¿Qué retorna: len(a), min(a), max(a)?\n",
    "#len(a) = 9\n",
    "#min(a) = 10\n",
    "#max(a) = 90\n"
   ]
  },
  {
   "cell_type": "code",
   "execution_count": 85,
   "id": "227a4312-b753-47f1-a670-8e0d424858a2",
   "metadata": {},
   "outputs": [],
   "source": [
    "#LISTAS y TUPLAS"
   ]
  },
  {
   "cell_type": "code",
   "execution_count": 16,
   "id": "16833d06-257d-407f-94e3-3b7c5fd74e8e",
   "metadata": {},
   "outputs": [
    {
     "name": "stdout",
     "output_type": "stream",
     "text": [
      "9\n"
     ]
    }
   ],
   "source": [
    "a = [10,20,30,40,50,60,70,80,90]\n",
    "print(len(a))"
   ]
  },
  {
   "cell_type": "code",
   "execution_count": 17,
   "id": "6663e576-9a17-4bfd-8cfc-09ed761736cd",
   "metadata": {},
   "outputs": [
    {
     "name": "stdout",
     "output_type": "stream",
     "text": [
      "10\n"
     ]
    }
   ],
   "source": [
    "print(min(a))"
   ]
  },
  {
   "cell_type": "code",
   "execution_count": 18,
   "id": "0eb27c61-c454-4a84-8de7-d6db4cdca4da",
   "metadata": {},
   "outputs": [
    {
     "name": "stdout",
     "output_type": "stream",
     "text": [
      "90\n"
     ]
    }
   ],
   "source": [
    "print(max(a))"
   ]
  },
  {
   "cell_type": "code",
   "execution_count": 20,
   "id": "a6990efe-7dd1-47af-a579-2ccfb32642c6",
   "metadata": {},
   "outputs": [],
   "source": [
    "a.append(100)"
   ]
  },
  {
   "cell_type": "code",
   "execution_count": 21,
   "id": "0139bf3b-07d3-4e61-811f-65eaac409d0a",
   "metadata": {},
   "outputs": [
    {
     "name": "stdout",
     "output_type": "stream",
     "text": [
      "100\n"
     ]
    }
   ],
   "source": [
    "print(max(a))"
   ]
  },
  {
   "cell_type": "code",
   "execution_count": 29,
   "id": "3c6b9bb0-3639-4985-a381-def273437339",
   "metadata": {},
   "outputs": [
    {
     "name": "stdout",
     "output_type": "stream",
     "text": [
      "[10, 20, 30, 40, 50, 60, 70, 80, 90, 110, 120, 130]\n"
     ]
    }
   ],
   "source": [
    "#Practico 1 25\n",
    "a = None\n",
    "a = [10,20,30,40,50,60,70,80,90]\n",
    "valores = [110, 120, 130]\n",
    "a += valores\n",
    "print(a)"
   ]
  },
  {
   "cell_type": "code",
   "execution_count": 30,
   "id": "02eadbbb-e38b-4b11-874e-4490a251c973",
   "metadata": {},
   "outputs": [],
   "source": [
    "#Practico 1 26\n",
    "del a[-1]"
   ]
  },
  {
   "cell_type": "code",
   "execution_count": 31,
   "id": "7d7c192e-a373-4efe-bdd7-55ded2c5aa4c",
   "metadata": {},
   "outputs": [
    {
     "name": "stdout",
     "output_type": "stream",
     "text": [
      "[10, 20, 30, 40, 50, 60, 70, 80, 90, 110, 120]\n"
     ]
    }
   ],
   "source": [
    "print(a)"
   ]
  },
  {
   "cell_type": "code",
   "execution_count": 33,
   "id": "0d6fed9b-ccae-41be-ad90-0ab835e61ccb",
   "metadata": {},
   "outputs": [
    {
     "name": "stdout",
     "output_type": "stream",
     "text": [
      "[20, 30, 40, 50, 60]\n"
     ]
    }
   ],
   "source": [
    "#Practico 1 27\n",
    "lista_aux = a[1:6]\n",
    "print(lista_aux)"
   ]
  },
  {
   "cell_type": "code",
   "execution_count": 35,
   "id": "91b9df86-e096-47a9-9c6d-377e75033eae",
   "metadata": {},
   "outputs": [
    {
     "name": "stdout",
     "output_type": "stream",
     "text": [
      "[10, 20, 30, 40, 50, 60, 70, 80]\n"
     ]
    }
   ],
   "source": [
    "#Practico 1 28 Borre los últimos 3 valores en una sola línea. \n",
    "a = a[:-3]\n",
    "print(a)"
   ]
  },
  {
   "cell_type": "code",
   "execution_count": 37,
   "id": "2cdfbcf2-cba3-4bb2-b766-6a81836a67ff",
   "metadata": {},
   "outputs": [
    {
     "name": "stdout",
     "output_type": "stream",
     "text": [
      "[1, 2, 3, 40, 50, 60, 70, 80]\n"
     ]
    }
   ],
   "source": [
    "#Practico 1 29 En una sola linea modifique los primeros tres posiciones para tener 1, 2 y 3 en lugar de 10, 20 y 30\n",
    "a[:3] = [1, 2, 3]\n",
    "print(a)"
   ]
  },
  {
   "cell_type": "code",
   "execution_count": 38,
   "id": "e8eed161-0d59-49de-831f-d1f8f92412de",
   "metadata": {},
   "outputs": [],
   "source": [
    "#Practico 1 30  ¿Qué pasa si hacemos  a[:] = [] ? QUEDA VACIO"
   ]
  },
  {
   "cell_type": "code",
   "execution_count": 39,
   "id": "5a55f34d-1ca7-459e-8124-09215b4afee3",
   "metadata": {},
   "outputs": [],
   "source": [
    "#Practico 1 31 a =[1, 2,3] ¿Cuál es el resultado de hacer a=a*3? Se repite las listas * N cantidad de veces\n",
    "b=[1, 2,3]\n",
    "b=b*3"
   ]
  },
  {
   "cell_type": "code",
   "execution_count": 40,
   "id": "4e1cb487-c8b1-4619-977f-9a3dec84b95c",
   "metadata": {},
   "outputs": [
    {
     "name": "stdout",
     "output_type": "stream",
     "text": [
      "[1, 2, 3, 1, 2, 3, 1, 2, 3]\n"
     ]
    }
   ],
   "source": [
    "print(b)"
   ]
  },
  {
   "cell_type": "code",
   "execution_count": 48,
   "id": "742bee96-0048-4118-b76d-0c1d3224a401",
   "metadata": {},
   "outputs": [
    {
     "name": "stdout",
     "output_type": "stream",
     "text": [
      "[5, 4, 3, 2, 1]\n"
     ]
    }
   ],
   "source": [
    "#Practico 1 32  a =[1, 2,3,4,5] ¿Cuál es el resultado de hacer a[::-1]? Se utiliza para revertir la LISTA\n",
    "c = [1, 2,3,4,5]\n",
    "print(c[::-1])"
   ]
  },
  {
   "cell_type": "code",
   "execution_count": 49,
   "id": "f7d817ac-2df7-4f71-93ff-79723a884fa6",
   "metadata": {},
   "outputs": [
    {
     "name": "stdout",
     "output_type": "stream",
     "text": [
      "[5, 3, 1]\n"
     ]
    }
   ],
   "source": [
    "#Practico 1 33 ¿Cómo obtenemos [5,3,1]? \n",
    "d=c[::-1]\n",
    "del d[1]\n",
    "del d[2] #La lista se modifica una vez eliminado el elemento\n",
    "print(d)"
   ]
  },
  {
   "cell_type": "code",
   "execution_count": 47,
   "id": "8090624d-d9b3-47be-a9e1-a70671a7c418",
   "metadata": {},
   "outputs": [],
   "source": [
    "#Practico 1 34 Si tenemos  a = [10,20,[30,40,50],60]. ¿Qué retorna a[2][1]? 40"
   ]
  },
  {
   "cell_type": "code",
   "execution_count": 46,
   "id": "6d153580-a0bd-4411-a3df-268d273e5812",
   "metadata": {},
   "outputs": [
    {
     "name": "stdout",
     "output_type": "stream",
     "text": [
      "40\n"
     ]
    }
   ],
   "source": [
    "e = [10,20,[30,40,50],60]\n",
    "print(e[2][1])"
   ]
  },
  {
   "cell_type": "code",
   "execution_count": 50,
   "id": "c3c831be-9328-4d7c-9518-e0cd019a8908",
   "metadata": {},
   "outputs": [],
   "source": [
    "#Practico 1 35 Si tenemos la lista a=[1,2,3] ¿Qué hacen los siguientes métodos?\n",
    "a=[1,2,3]\n"
   ]
  },
  {
   "cell_type": "code",
   "execution_count": 53,
   "id": "f83ce44a-bb13-486d-b3c5-ee126d4deb7d",
   "metadata": {},
   "outputs": [
    {
     "name": "stdout",
     "output_type": "stream",
     "text": [
      "1\n"
     ]
    }
   ],
   "source": [
    "print(a.count(2)) \n",
    "#El método .count() en Python se utiliza para contar cuántas veces aparece un elemento específico en una lista. \n",
    "#Toma un solo argumento, que es el elemento que deseas contar, y devuelve el número de veces que aparece ese elemento en la lista."
   ]
  },
  {
   "cell_type": "code",
   "execution_count": 54,
   "id": "f51e6289-3f81-49b1-b2bc-c8e6e8a440d5",
   "metadata": {},
   "outputs": [
    {
     "name": "stdout",
     "output_type": "stream",
     "text": [
      "[1, 2, 3, 4]\n"
     ]
    }
   ],
   "source": [
    "a.append(4) #Agrega el elemento 4 al final de la lista\n",
    "print(a)"
   ]
  },
  {
   "cell_type": "code",
   "execution_count": 55,
   "id": "0e0f802e-988e-450b-9c3f-9d9c9140c564",
   "metadata": {},
   "outputs": [
    {
     "name": "stdout",
     "output_type": "stream",
     "text": [
      "[1, 2, 3, 4, [5, 6]]\n"
     ]
    }
   ],
   "source": [
    "a.append([5,6]) #Agrega la lista al final de la lista \n",
    "print(a)"
   ]
  },
  {
   "cell_type": "code",
   "execution_count": 56,
   "id": "5c513760-04e7-42b7-a2fa-151d8e7d613c",
   "metadata": {},
   "outputs": [
    {
     "name": "stdout",
     "output_type": "stream",
     "text": [
      "[1, 2, 3, 4, [5, 6], 7, 8, 9]\n"
     ]
    }
   ],
   "source": [
    " a.extend([7,8,9]) #Extiende la lista con los elementos lista destino\n",
    "print(a)"
   ]
  },
  {
   "cell_type": "code",
   "execution_count": 58,
   "id": "5c5b9928-9618-4358-b9a1-c329e9b211db",
   "metadata": {},
   "outputs": [
    {
     "name": "stdout",
     "output_type": "stream",
     "text": [
      "8\n"
     ]
    }
   ],
   "source": [
    "print(a.pop()) #Trae y elemina el ultimo elemento de la lista insertado"
   ]
  },
  {
   "cell_type": "code",
   "execution_count": 59,
   "id": "9753f9de-6cf4-4747-b10e-eb62a2c28743",
   "metadata": {},
   "outputs": [
    {
     "name": "stdout",
     "output_type": "stream",
     "text": [
      "[1, 2, 3, 4, [5, 6], 7]\n"
     ]
    }
   ],
   "source": [
    "print(a)"
   ]
  },
  {
   "cell_type": "code",
   "execution_count": 60,
   "id": "ada7ef36-ae3c-4d26-9e0c-d82ab665a423",
   "metadata": {},
   "outputs": [
    {
     "data": {
      "text/plain": [
       "3"
      ]
     },
     "execution_count": 60,
     "metadata": {},
     "output_type": "execute_result"
    }
   ],
   "source": [
    "a.pop(2) #Elimina el elemento en esa posicion"
   ]
  },
  {
   "cell_type": "code",
   "execution_count": 61,
   "id": "f9fadb58-7a4c-4d3f-a84c-4e10569df00e",
   "metadata": {},
   "outputs": [
    {
     "name": "stdout",
     "output_type": "stream",
     "text": [
      "[1, 2, 4, [5, 6], 7]\n"
     ]
    }
   ],
   "source": [
    "print (a)"
   ]
  },
  {
   "cell_type": "code",
   "execution_count": 82,
   "id": "be5390f3-8d56-49c9-97d3-51e9c1130942",
   "metadata": {},
   "outputs": [],
   "source": [
    " #Elimina el elemento a buscar a.remove(20) , solo si EXISTE"
   ]
  },
  {
   "cell_type": "code",
   "execution_count": 64,
   "id": "5ab403ce-a89a-491e-aabb-bc1f2bd63b64",
   "metadata": {},
   "outputs": [
    {
     "name": "stdout",
     "output_type": "stream",
     "text": [
      "[1, 20, 20, 2, 4, [5, 6], 7]\n"
     ]
    }
   ],
   "source": [
    "a.insert(1,20) #en la posicion marcada inserta un elemento\n",
    "print(a)\n"
   ]
  },
  {
   "cell_type": "code",
   "execution_count": 65,
   "id": "88765777-3323-4c35-a742-75ca0cd5193d",
   "metadata": {},
   "outputs": [
    {
     "name": "stdout",
     "output_type": "stream",
     "text": [
      "[7, [5, 6], 4, 2, 20, 20, 1]\n"
     ]
    }
   ],
   "source": [
    "a.reverse() #Invierte la lista .\n",
    "print(a)\n"
   ]
  },
  {
   "cell_type": "code",
   "execution_count": 70,
   "id": "92c22a9e-73df-47ad-a959-2f714c0af2ab",
   "metadata": {},
   "outputs": [],
   "source": [
    "a = [5,8,1, 2, 3, 4] \n",
    "a.sort() #Ordena los elementos de la lista , no debe existir lista dentro de listas para aplicar short()"
   ]
  },
  {
   "cell_type": "code",
   "execution_count": 69,
   "id": "236c779f-d885-4617-b10b-d566952d31f0",
   "metadata": {},
   "outputs": [
    {
     "name": "stdout",
     "output_type": "stream",
     "text": [
      "[1, 2, 3, 4, 5, 8]\n"
     ]
    }
   ],
   "source": [
    "print(a)\n"
   ]
  },
  {
   "cell_type": "code",
   "execution_count": 71,
   "id": "191f9b7b-44e3-4286-b3ff-51ea73a2e71d",
   "metadata": {},
   "outputs": [
    {
     "name": "stdout",
     "output_type": "stream",
     "text": [
      "[8, 5, 4, 3, 2, 1]\n"
     ]
    }
   ],
   "source": [
    "a.sort(reverse=True) #Ordenar de forma invertida de Mayor a Menor\n",
    "print(a)"
   ]
  },
  {
   "cell_type": "code",
   "execution_count": 72,
   "id": "eef2217d-b644-4ffa-9d2f-d5aadebacbfc",
   "metadata": {},
   "outputs": [],
   "source": [
    "#Practico 1 36  Si tenemos la tupla a=(10,20,30,40,50). ¿Que retorna lo siguiente?\n",
    "a=(10,20,30,40,50)"
   ]
  },
  {
   "cell_type": "code",
   "execution_count": 73,
   "id": "3edaae8b-79da-4c76-b6b0-0ce293d53bef",
   "metadata": {},
   "outputs": [
    {
     "name": "stdout",
     "output_type": "stream",
     "text": [
      "5\n"
     ]
    }
   ],
   "source": [
    "print(len(a)) #Longitud de la tupla o Cantidad de Elementos"
   ]
  },
  {
   "cell_type": "code",
   "execution_count": 74,
   "id": "29a61d5e-e967-440a-951c-e2bb284aa009",
   "metadata": {},
   "outputs": [
    {
     "name": "stdout",
     "output_type": "stream",
     "text": [
      "10\n"
     ]
    }
   ],
   "source": [
    "print(min(a)) #Elemento de menor valor"
   ]
  },
  {
   "cell_type": "code",
   "execution_count": 75,
   "id": "68d2c50a-9232-46da-be03-b5947d693492",
   "metadata": {},
   "outputs": [
    {
     "name": "stdout",
     "output_type": "stream",
     "text": [
      "50\n"
     ]
    }
   ],
   "source": [
    "print(max(a)) #Elemento de mayor valor\n"
   ]
  },
  {
   "cell_type": "code",
   "execution_count": 76,
   "id": "a964160e-b620-4f7b-acbc-82817935d91f",
   "metadata": {},
   "outputs": [
    {
     "name": "stdout",
     "output_type": "stream",
     "text": [
      "1\n"
     ]
    }
   ],
   "source": [
    "print(a.count(50)) #Devuelve la cantidad de veces que aparece el elmento a comparar"
   ]
  },
  {
   "cell_type": "code",
   "execution_count": 77,
   "id": "022fb19b-7dce-473f-b4e1-04ff85246c2f",
   "metadata": {},
   "outputs": [
    {
     "data": {
      "text/plain": [
       "4"
      ]
     },
     "execution_count": 77,
     "metadata": {},
     "output_type": "execute_result"
    }
   ],
   "source": [
    "a.index(50) #Devuelve el indice donde esta el elmento "
   ]
  },
  {
   "cell_type": "code",
   "execution_count": 79,
   "id": "b785f52f-65cd-4a81-8a89-9be1d0798e40",
   "metadata": {},
   "outputs": [],
   "source": [
    "#37 Si tenemos   a=(10,20,30,40,50); b = (60, 70) ¿Qué retorna a+b y a*2? a +b =(10,20,30,40,50 ,60, 70) y a*2 = (10,20,30,40,50,10,20,30,40,50)"
   ]
  },
  {
   "cell_type": "code",
   "execution_count": 80,
   "id": "aad36b65-f0ff-4d08-bce5-fb02425dc90a",
   "metadata": {},
   "outputs": [
    {
     "name": "stdout",
     "output_type": "stream",
     "text": [
      "(10, 20, 30, 40, 50, 60, 70)\n"
     ]
    }
   ],
   "source": [
    "a=(10,20,30,40,50)\n",
    "b = (60, 70)\n",
    "print(a+b)"
   ]
  },
  {
   "cell_type": "code",
   "execution_count": 81,
   "id": "2df8e28d-ce2b-4d1b-81ca-7b69b6d8933a",
   "metadata": {},
   "outputs": [
    {
     "name": "stdout",
     "output_type": "stream",
     "text": [
      "(10, 20, 30, 40, 50, 10, 20, 30, 40, 50)\n"
     ]
    }
   ],
   "source": [
    "print(a*2)"
   ]
  },
  {
   "cell_type": "code",
   "execution_count": 86,
   "id": "92c6f6cd-95b9-45ff-953d-15ffc4db8813",
   "metadata": {},
   "outputs": [],
   "source": [
    "#DICCIONARIOS\n"
   ]
  },
  {
   "cell_type": "code",
   "execution_count": 87,
   "id": "e3ab93fe-a1f5-4724-8cb4-10b626b7a4f3",
   "metadata": {},
   "outputs": [],
   "source": [
    "#38 ¿Cómo se genera un diccionario? ¿Es modificable?\n",
    "#mi_diccionario = {\"clave1\": valor1, \"clave2\": valor2, \"clave3\": valor3}\n",
    "#Si son MODIFICABLES , accediendo al indice que sele asigna \n"
   ]
  },
  {
   "cell_type": "code",
   "execution_count": 93,
   "id": "01c7e4f5-de1c-4b20-9cba-cccc2b31f488",
   "metadata": {},
   "outputs": [
    {
     "name": "stdout",
     "output_type": "stream",
     "text": [
      "{'joe': 85, 'peter': 88, 'jack': 90}\n",
      "{'joe': 90, 'peter': 85, 'jack': 88}\n"
     ]
    }
   ],
   "source": [
    "# 39 \n",
    "a = {'joe': 85, 'peter': 88, 'jack': 90}\n",
    "b = dict (joe = 90 , peter = 85 , jack = 88)\n",
    "print(a)\n",
    "print(b)"
   ]
  },
  {
   "cell_type": "code",
   "execution_count": 94,
   "id": "5d24ce0b-82e4-4ad0-a8df-f15e22591934",
   "metadata": {},
   "outputs": [
    {
     "name": "stdout",
     "output_type": "stream",
     "text": [
      "3\n"
     ]
    }
   ],
   "source": [
    "#40 ¿Qué retorna len(a)? cantidad de elementos del diccionario \n",
    "print(len(a))"
   ]
  },
  {
   "cell_type": "code",
   "execution_count": 95,
   "id": "084d4ba6-8064-499e-93f6-b9f7eecc89a3",
   "metadata": {},
   "outputs": [],
   "source": [
    "# 41. ¿Cómo agregamos un valor? ¿Y cómo lo borramos? AGREGAR a[\"nuevo_indice\"] = valor , ELIMINAR del a[\"indice_a_eliminar\"]"
   ]
  },
  {
   "cell_type": "code",
   "execution_count": 96,
   "id": "a812fea2-76af-4631-8c5c-9a2141390977",
   "metadata": {},
   "outputs": [
    {
     "name": "stdout",
     "output_type": "stream",
     "text": [
      "True\n"
     ]
    }
   ],
   "source": [
    "# 42. Verifique que es posible determinar si una clave está presente o no en un diccionario usando in // not in. Ejemplos: 'peter' in a  'Carlos' not in a\n",
    "print('peter' in a)"
   ]
  },
  {
   "cell_type": "code",
   "execution_count": 97,
   "id": "8d9d1487-94a8-4594-b699-3ae15f0991a4",
   "metadata": {},
   "outputs": [
    {
     "name": "stdout",
     "output_type": "stream",
     "text": [
      "True\n"
     ]
    }
   ],
   "source": [
    "print('Carlos' not in a)"
   ]
  },
  {
   "cell_type": "code",
   "execution_count": 98,
   "id": "73219b0e-8dfc-4cc1-95ad-d8350d4c756d",
   "metadata": {},
   "outputs": [],
   "source": [
    "# 43. Si tenemos a = {'Carlos' : 85 , 'Pablo' : 88 , 'Daniel' : 90} ¿Qué retornan los siguientes métodos:?"
   ]
  },
  {
   "cell_type": "code",
   "execution_count": 102,
   "id": "4f8a1ec8-bc02-4ae8-83a1-046c6c21894e",
   "metadata": {},
   "outputs": [],
   "source": [
    "a = {'Carlos' : 85 , 'Pablo' : 88 , 'Daniel' : 90}\n"
   ]
  },
  {
   "cell_type": "code",
   "execution_count": 105,
   "id": "e8b37572-dbc2-4bf3-8f05-05fdfe311eec",
   "metadata": {},
   "outputs": [
    {
     "name": "stdout",
     "output_type": "stream",
     "text": [
      "85\n"
     ]
    }
   ],
   "source": [
    "print(a.get('Carlos', 0)) "
   ]
  },
  {
   "cell_type": "code",
   "execution_count": 107,
   "id": "9ff3f48a-e085-4e0b-b1f8-7e0ed78e5426",
   "metadata": {},
   "outputs": [
    {
     "name": "stdout",
     "output_type": "stream",
     "text": [
      "0\n"
     ]
    }
   ],
   "source": [
    "print(a.get('Pepe', 0))\n",
    "# Intentar obtener el valor asociado a la clave \"Pepe\" (que no existe)\n",
    "# Devolverá el valor predeterminado 0"
   ]
  },
  {
   "cell_type": "code",
   "execution_count": 108,
   "id": "111e8d47-20d8-4781-bbb3-b590829ff077",
   "metadata": {},
   "outputs": [
    {
     "name": "stdout",
     "output_type": "stream",
     "text": [
      "dict_keys(['Carlos', 'Pablo', 'Daniel'])\n"
     ]
    }
   ],
   "source": [
    "print(a.keys()) #Devuelve una lista con los nombres de los indices "
   ]
  },
  {
   "cell_type": "code",
   "execution_count": 109,
   "id": "e738a3d1-74cd-4c9c-bba8-490248228a3c",
   "metadata": {},
   "outputs": [
    {
     "name": "stdout",
     "output_type": "stream",
     "text": [
      "dict_values([85, 88, 90])\n"
     ]
    }
   ],
   "source": [
    "print(a.values()) #Devuelve una lista de valores del diccionarios"
   ]
  },
  {
   "cell_type": "code",
   "execution_count": 111,
   "id": "b4b63a7c-9fb2-43e9-94a7-b5b713eee864",
   "metadata": {},
   "outputs": [
    {
     "name": "stdout",
     "output_type": "stream",
     "text": [
      "[85, 88, 90]\n"
     ]
    }
   ],
   "source": [
    "print(list(a.values())) #Crea una nueva lista de elementos que contiene los valores de los elementos del diccionario"
   ]
  },
  {
   "cell_type": "code",
   "execution_count": 113,
   "id": "716c117f-6e09-4250-98fb-4ff2065182dd",
   "metadata": {},
   "outputs": [
    {
     "name": "stdout",
     "output_type": "stream",
     "text": [
      "dict_items([('Carlos', 85), ('Pablo', 88), ('Daniel', 90)])\n"
     ]
    }
   ],
   "source": [
    "print(a.items()) #Devuelve una lista de tuplas , donde cada tupla tiene el INDICE y su VALOR"
   ]
  },
  {
   "cell_type": "code",
   "execution_count": 114,
   "id": "58d8641c-8d62-4268-b870-bf22a1eee8d5",
   "metadata": {},
   "outputs": [],
   "source": [
    " #44. Teniendo notas = {'Carlos': [80,85,90], 'Pablo' : [85,90,95]} ¿Que retorna notas['Pablo'][0]? VALOR 85\n",
    "notas = {'Carlos': [80,85,90], 'Pablo' : [85,90,95]}"
   ]
  },
  {
   "cell_type": "code",
   "execution_count": 115,
   "id": "5e3f7abe-ae33-4a69-876c-189eae45ffcb",
   "metadata": {},
   "outputs": [
    {
     "name": "stdout",
     "output_type": "stream",
     "text": [
      "85\n"
     ]
    }
   ],
   "source": [
    "print(notas['Pablo'][0])"
   ]
  },
  {
   "cell_type": "code",
   "execution_count": 116,
   "id": "12ca8c80-737a-4f6c-a693-9391be888ea6",
   "metadata": {},
   "outputs": [],
   "source": [
    "#CONJUNTOS"
   ]
  },
  {
   "cell_type": "code",
   "execution_count": 117,
   "id": "33cdf305-85c2-4a03-99cc-0a8bdc992634",
   "metadata": {},
   "outputs": [],
   "source": [
    "#45. ¿Cómo se genera un conjunto?  mi_conjunto = set([1, 2, 3, 4, 5])"
   ]
  },
  {
   "cell_type": "code",
   "execution_count": 124,
   "id": "a63628d4-bdca-4140-9b24-9cb89f4bca66",
   "metadata": {},
   "outputs": [
    {
     "name": "stdout",
     "output_type": "stream",
     "text": [
      "{1, 2, 3, 4}\n",
      "{1, 2, 3, 4}\n"
     ]
    }
   ],
   "source": [
    "#46. Aunque es habitual crear los conjuntos a partir de una instancia de la clase set, se pueden \n",
    "#crear usando las llaves {}, separando cada elemento por comas. Se diferencia de los \n",
    "#diccionarios ya que no llevan los dos puntos. Verifique que es equivalente:\n",
    "s1 = {1, 2, 3, 4}\n",
    "s2 = set([1, 2, 3, 4])\n",
    "\n",
    "print(s1)\n",
    "print(s2)"
   ]
  },
  {
   "cell_type": "code",
   "execution_count": 125,
   "id": "03a845cf-393c-49e0-8d4c-b6471cc4594c",
   "metadata": {},
   "outputs": [
    {
     "name": "stdout",
     "output_type": "stream",
     "text": [
      "True\n"
     ]
    }
   ],
   "source": [
    "print(s1==s2)"
   ]
  },
  {
   "cell_type": "code",
   "execution_count": 126,
   "id": "f607aaae-bc2a-4b1d-b703-33af107eaee7",
   "metadata": {},
   "outputs": [],
   "source": [
    "# 47. Verifique que al igual que otras colecciones en python, en los conjuntos sus elementos \n",
    "#pueden ser de diversos tipos: s = {True, 3.14, None, False, \"Hola mundo\", (1, 2)}\n",
    "s = {True, 3.14, None, False, \"Hola mundo\", (1, 2)}"
   ]
  },
  {
   "cell_type": "code",
   "execution_count": 127,
   "id": "eaef1e92-1f2a-4cce-a1a0-86c6c4bd0d78",
   "metadata": {},
   "outputs": [
    {
     "name": "stdout",
     "output_type": "stream",
     "text": [
      "{False, True, None, (1, 2), 3.14, 'Hola mundo'}\n"
     ]
    }
   ],
   "source": [
    "print(s)"
   ]
  },
  {
   "cell_type": "code",
   "execution_count": 129,
   "id": "ed276d3f-7aad-47f4-a96a-b01caeee8142",
   "metadata": {},
   "outputs": [],
   "source": [
    "#48. Verifique que un conjunto no puede incluir objetos mutables como listas, diccionarios, e incluso otros conjuntos. ¿Qué pasa con s = {[1, 2]}?\n",
    "#s = {[1, 2]}\n"
   ]
  },
  {
   "cell_type": "code",
   "execution_count": 130,
   "id": "e5f845a0-8d5c-4e44-ae7b-e26b86209ea3",
   "metadata": {},
   "outputs": [],
   "source": [
    "#49. Un set puede ser convertido a una lista y viceversa. En este último caso, los elementos \n",
    "#duplicados son unificados. Pruebe con el siguiente ejemplo:\n",
    "a=list({1, 2, 3, 4})\n",
    "b=set([1, 2, 2, 3, 4])"
   ]
  },
  {
   "cell_type": "code",
   "execution_count": 131,
   "id": "58def9cf-5c25-4cf3-8686-37ff5a66a2cb",
   "metadata": {},
   "outputs": [
    {
     "name": "stdout",
     "output_type": "stream",
     "text": [
      "[1, 2, 3, 4]\n",
      "{1, 2, 3, 4}\n"
     ]
    }
   ],
   "source": [
    "print(a)\n",
    "print(b)"
   ]
  },
  {
   "cell_type": "code",
   "execution_count": 133,
   "id": "f0b663eb-f6cb-46f1-910d-c6f04dec1fdf",
   "metadata": {},
   "outputs": [
    {
     "name": "stdout",
     "output_type": "stream",
     "text": [
      "{1, 2, 3, 4, 5}\n",
      "{1, 3, 4, 5}\n"
     ]
    }
   ],
   "source": [
    "# 50. Los conjuntos son objetos mutables. Vía los métodos add() y discard() podemos \n",
    "#añadir y remover un elemento indicándolo como argumento. Verifique que hace:\n",
    "s = {1, 2, 3, 4}\n",
    "s.add(5)\n",
    "print(s)\n",
    "s.discard(2)\n",
    "print(s)"
   ]
  },
  {
   "cell_type": "code",
   "execution_count": 134,
   "id": "c2fa72b8-448e-4379-8e87-85238c009325",
   "metadata": {},
   "outputs": [
    {
     "name": "stdout",
     "output_type": "stream",
     "text": [
      "True\n",
      "False\n"
     ]
    }
   ],
   "source": [
    " #51. Para determinar si un elemento pertenece a un conjunto, utilizamos la palabra reservada in o \n",
    "#not in. ¿Qué retorna: ?\n",
    "print(2 in {1, 2, 3}) #Retorna TRUE\n",
    "print(4 in {1, 2, 3}) #Retorna FALSE"
   ]
  },
  {
   "cell_type": "code",
   "execution_count": 136,
   "id": "164a09bc-2a6a-45c0-86e1-4539dfeafe7b",
   "metadata": {},
   "outputs": [
    {
     "name": "stdout",
     "output_type": "stream",
     "text": [
      "{1, 2, 3, 4, 5, 6}\n",
      "{3, 4}\n"
     ]
    }
   ],
   "source": [
    "# 52. Genera la unión, la intersección, y la diferencia entre los siguientes conjuntos:\n",
    "a = {1, 2, 3, 4}\n",
    "b = {3, 4, 5, 6}\n",
    "#UNION\n",
    "c = a|b\n",
    "print(c)\n",
    "#INSERSECCION\n",
    "c= a & b\n",
    "print(c)"
   ]
  },
  {
   "cell_type": "code",
   "execution_count": 137,
   "id": "b53423d0-e1ae-4810-be30-1642841486d0",
   "metadata": {},
   "outputs": [],
   "source": [
    "# 53. ¿Cómo se genera un conjunto inmutable ? utilizando la declaracion frozenset(items) para armar el CONJUNTO INMUTABLE"
   ]
  },
  {
   "cell_type": "code",
   "execution_count": 138,
   "id": "5062d63c-333d-4406-9cc3-c30329f04fc7",
   "metadata": {},
   "outputs": [],
   "source": [
    "# BYTES, BETEARRAY"
   ]
  },
  {
   "cell_type": "code",
   "execution_count": 143,
   "id": "e34b9ec1-23fc-4e57-9a41-fc68917d7b69",
   "metadata": {},
   "outputs": [
    {
     "name": "stdout",
     "output_type": "stream",
     "text": [
      "72\n"
     ]
    }
   ],
   "source": [
    " #54. ¿Cómo se genera una cadena de texto byte en python? ¿Es modificable?\n",
    "palabra = b\"Hola\" #palabra =bytes([72,111,108,97])\n",
    "print(palabra[0])\n"
   ]
  },
  {
   "cell_type": "code",
   "execution_count": 145,
   "id": "5a369f78-c833-4306-88c0-25421c03e3c2",
   "metadata": {},
   "outputs": [
    {
     "data": {
      "text/plain": [
       "'\\nSi intentas crear una cadena de texto byte como pais = b\"España\", obtendrás un error llamado SyntaxError: bytes can only contain ASCII literal characters.\\nEsto se debe a que la notación b\"...\" solo admite caracteres ASCII en la cadena de texto byte. La letra \"ñ\" en \"España\" no es un carácter ASCII válido y, por lo tanto, Python no te permitirá crear la cadena de texto byte utilizando esta notación directa.\\nPara manejar caracteres no ASCII en una cadena de texto byte, puedes utilizar la codificación de caracteres apropiada para convertir los caracteres en su representación de bytes. Por ejemplo, para la letra \"ñ\" en UTF-8, puedes usar:\\n'"
      ]
     },
     "execution_count": 145,
     "metadata": {},
     "output_type": "execute_result"
    }
   ],
   "source": [
    "#55. ¿Qué pasa si intentamos crear la cadena de texto byte de la siguiente manera pais = b\"España\"?\n",
    "\"\"\"\n",
    "Si intentas crear una cadena de texto byte como pais = b\"España\", obtendrás un error llamado SyntaxError: bytes can only contain ASCII literal characters.\n",
    "Esto se debe a que la notación b\"...\" solo admite caracteres ASCII en la cadena de texto byte. La letra \"ñ\" en \"España\" no es un carácter ASCII válido y, por lo tanto, Python no te permitirá crear la cadena de texto byte utilizando esta notación directa.\n",
    "Para manejar caracteres no ASCII en una cadena de texto byte, puedes utilizar la codificación de caracteres apropiada para convertir los caracteres en su representación de bytes. Por ejemplo, para la letra \"ñ\" en UTF-8, puedes usar:\n",
    "\"\"\""
   ]
  },
  {
   "cell_type": "code",
   "execution_count": 146,
   "id": "5f0bdaf9-8b01-4c7d-9c29-bc10e5376603",
   "metadata": {},
   "outputs": [],
   "source": [
    "# 56. ¿Qué pasa si hacemos: pais = bytes(\"España\", \"utf-8\") ?\n",
    "pais = bytes(\"España\", \"utf-8\")"
   ]
  },
  {
   "cell_type": "code",
   "execution_count": 148,
   "id": "111209d8-bf6f-4144-bd92-f6298adb6f4d",
   "metadata": {},
   "outputs": [
    {
     "name": "stdout",
     "output_type": "stream",
     "text": [
      "bytearray(b'hello')\n"
     ]
    }
   ],
   "source": [
    "#Crear un bytearray desde un bytes:\n",
    "bytes_data = b'hello'\n",
    "bytearray_from_bytes = bytearray(bytes_data)\n",
    "print(bytearray_from_bytes)\n"
   ]
  },
  {
   "cell_type": "code",
   "execution_count": 149,
   "id": "e9834b70-8590-4761-988d-e8491d128c7f",
   "metadata": {},
   "outputs": [
    {
     "name": "stdout",
     "output_type": "stream",
     "text": [
      "bytearray(b'world')\n"
     ]
    }
   ],
   "source": [
    "#Crear un bytearray desde un string:\n",
    "string_data = 'world'\n",
    "bytearray_from_string = bytearray(string_data, 'utf-8')  # Necesitas especificar la codificación\n",
    "print(bytearray_from_string)\n"
   ]
  },
  {
   "cell_type": "code",
   "execution_count": 150,
   "id": "a5e3aee2-3b69-4c51-8e8d-defa18d1d5d2",
   "metadata": {},
   "outputs": [
    {
     "name": "stdout",
     "output_type": "stream",
     "text": [
      "bytearray(b'Hello')\n"
     ]
    }
   ],
   "source": [
    "#Crear un bytearray desde una lista de enteros:\n",
    "int_list = [72, 101, 108, 108, 111]\n",
    "bytearray_from_ints = bytearray(int_list)\n",
    "print(bytearray_from_ints)\n"
   ]
  },
  {
   "cell_type": "code",
   "execution_count": null,
   "id": "73fc7f51-1081-4bb4-9c20-43a4a13e1de5",
   "metadata": {},
   "outputs": [],
   "source": []
  }
 ],
 "metadata": {
  "kernelspec": {
   "display_name": "Python 3 (ipykernel)",
   "language": "python",
   "name": "python3"
  },
  "language_info": {
   "codemirror_mode": {
    "name": "ipython",
    "version": 3
   },
   "file_extension": ".py",
   "mimetype": "text/x-python",
   "name": "python",
   "nbconvert_exporter": "python",
   "pygments_lexer": "ipython3",
   "version": "3.11.7"
  }
 },
 "nbformat": 4,
 "nbformat_minor": 5
}
