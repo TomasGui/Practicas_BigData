{
 "cells": [
  {
   "cell_type": "code",
   "execution_count": 1,
   "id": "25c8c58c-ef7a-4cc4-8757-0de2c98851d7",
   "metadata": {},
   "outputs": [
    {
     "name": "stdout",
     "output_type": "stream",
     "text": [
      "0\n",
      "0\n",
      "0\n",
      "0\n",
      "0\n",
      "0\n",
      "0\n",
      "0\n",
      "0\n",
      "0\n",
      "0\n",
      "1\n",
      "2\n",
      "3\n",
      "4\n",
      "5\n",
      "6\n",
      "7\n",
      "8\n",
      "9\n",
      "0\n",
      "2\n",
      "4\n",
      "6\n",
      "8\n",
      "10\n",
      "12\n",
      "14\n",
      "16\n",
      "18\n",
      "0\n",
      "3\n",
      "6\n",
      "9\n",
      "12\n",
      "15\n",
      "18\n",
      "21\n",
      "24\n",
      "27\n",
      "0\n",
      "4\n",
      "8\n",
      "12\n",
      "16\n",
      "20\n",
      "24\n",
      "28\n",
      "32\n",
      "36\n",
      "0\n",
      "5\n",
      "10\n",
      "15\n",
      "20\n",
      "25\n",
      "30\n",
      "35\n",
      "40\n",
      "45\n",
      "0\n",
      "6\n",
      "12\n",
      "18\n",
      "24\n",
      "30\n",
      "36\n",
      "42\n",
      "48\n",
      "54\n"
     ]
    }
   ],
   "source": [
    " #Con bucles anidados\n",
    " for x in range(10):\n",
    "    for y in range(10):\n",
    "        print (x*y)\n",
    "        if x*y > 50:\n",
    "            break\n",
    "    else:\n",
    "        continue \n",
    "    break\n"
   ]
  },
  {
   "cell_type": "code",
   "execution_count": 12,
   "id": "2bdf478e-5c12-47e6-92aa-35774ccb0df8",
   "metadata": {},
   "outputs": [],
   "source": [
    "def hola():\n",
    "           \"\"\"\n",
    "           Esto es el docstring de hola\n",
    "           \"\"\"\n",
    "           print(\"Hola\")\n"
   ]
  },
  {
   "cell_type": "code",
   "execution_count": 13,
   "id": "701bb298-2a0c-4cf9-bcc6-47d40cd78f92",
   "metadata": {},
   "outputs": [
    {
     "name": "stdout",
     "output_type": "stream",
     "text": [
      "Hola\n"
     ]
    }
   ],
   "source": [
    " hola.__doc__\n",
    " hola()\n"
   ]
  },
  {
   "cell_type": "code",
   "execution_count": 14,
   "id": "36e317c7-2fc4-42de-858e-6559dfdc2de6",
   "metadata": {},
   "outputs": [
    {
     "name": "stdout",
     "output_type": "stream",
     "text": [
      "\n",
      "           Esto es el docstring de hola\n",
      "           \n"
     ]
    }
   ],
   "source": [
    "print(hola.__doc__)"
   ]
  },
  {
   "cell_type": "code",
   "execution_count": 19,
   "id": "89eb57b9-10c5-4997-9cfe-b0681a8f191a",
   "metadata": {},
   "outputs": [
    {
     "data": {
      "text/plain": [
       "1"
      ]
     },
     "execution_count": 19,
     "metadata": {},
     "output_type": "execute_result"
    }
   ],
   "source": [
    "# Con un valor de retorno\n",
    "def func1(a):\n",
    "    if a%2==0:\n",
    "        return 0\n",
    "    else:\n",
    "        return 1\n",
    "func1(7)\n"
   ]
  },
  {
   "cell_type": "code",
   "execution_count": 20,
   "id": "d9d0f9e4-a6ab-45d1-a516-be76f7fe9384",
   "metadata": {},
   "outputs": [
    {
     "name": "stdout",
     "output_type": "stream",
     "text": [
      "Hola Carlos\n",
      "Hola Marta\n",
      "{'n': 5, 'c': 'Hola', 'l': [1, 2, 3]}\n"
     ]
    }
   ],
   "source": [
    "#Arg indeterminados - Posición\n",
    "def ind_posicion(*names):\n",
    "    for name in names:                        \n",
    "        print(\"Hola \" + name)\n",
    "ind_posicion(\"Carlos\",\"Marta\")\n",
    "#Arg indeterminados – Nombre\n",
    "def ind_nombre(**kwargs):\n",
    "    print (kwargs)\n",
    "ind_nombre(n=5, c=\"Hola\", l=[1,2,3])\n"
   ]
  },
  {
   "cell_type": "code",
   "execution_count": null,
   "id": "93f6e871-0636-40dd-8e7d-cd0e37ffe60c",
   "metadata": {},
   "outputs": [],
   "source": []
  }
 ],
 "metadata": {
  "kernelspec": {
   "display_name": "Python 3 (ipykernel)",
   "language": "python",
   "name": "python3"
  },
  "language_info": {
   "codemirror_mode": {
    "name": "ipython",
    "version": 3
   },
   "file_extension": ".py",
   "mimetype": "text/x-python",
   "name": "python",
   "nbconvert_exporter": "python",
   "pygments_lexer": "ipython3",
   "version": "3.11.7"
  }
 },
 "nbformat": 4,
 "nbformat_minor": 5
}
