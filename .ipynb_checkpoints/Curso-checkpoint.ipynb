{
 "cells": [
  {
   "cell_type": "code",
   "execution_count": 1,
   "id": "a8b0b049-4d1a-493d-a599-f7994d09d42e",
   "metadata": {},
   "outputs": [],
   "source": [
    "tupla = (\"abc\" , 0 , \"HOLA\", True)"
   ]
  },
  {
   "cell_type": "code",
   "execution_count": 2,
   "id": "e3a79c4b-2c74-4eb1-86ed-7d058405614a",
   "metadata": {},
   "outputs": [
    {
     "data": {
      "text/plain": [
       "'abc'"
      ]
     },
     "execution_count": 2,
     "metadata": {},
     "output_type": "execute_result"
    }
   ],
   "source": [
    "tupla[0]"
   ]
  },
  {
   "cell_type": "code",
   "execution_count": null,
   "id": "def6a573-75b9-4e26-87ca-82f66e431fda",
   "metadata": {},
   "outputs": [],
   "source": [
    "diccionario = {\"cadena\": \"abc\",\"numero\":42 , \"lista\":[True , 42]}"
   ]
  }
 ],
 "metadata": {
  "kernelspec": {
   "display_name": "Python 3 (ipykernel)",
   "language": "python",
   "name": "python3"
  },
  "language_info": {
   "codemirror_mode": {
    "name": "ipython",
    "version": 3
   },
   "file_extension": ".py",
   "mimetype": "text/x-python",
   "name": "python",
   "nbconvert_exporter": "python",
   "pygments_lexer": "ipython3",
   "version": "3.11.7"
  }
 },
 "nbformat": 4,
 "nbformat_minor": 5
}
