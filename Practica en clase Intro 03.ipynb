{
 "cells": [
  {
   "cell_type": "code",
   "execution_count": 1,
   "id": "33725cba-8041-4936-890f-8c15bf3a9f94",
   "metadata": {},
   "outputs": [
    {
     "name": "stdout",
     "output_type": "stream",
     "text": [
      "Como se llama _? \n"
     ]
    },
    {
     "name": "stdin",
     "output_type": "stream",
     "text": [
      " Pedro\n"
     ]
    },
    {
     "name": "stdout",
     "output_type": "stream",
     "text": [
      "Me alegro en conocerlo, Pedro\n"
     ]
    }
   ],
   "source": [
    "print(\"Como se llama _? \")\n",
    "nombre = input()\n",
    "print(f\"Me alegro en conocerlo, {nombre}\")\n"
   ]
  },
  {
   "cell_type": "code",
   "execution_count": 2,
   "id": "34fd32ba-f9c1-424c-b926-90cf73abc3af",
   "metadata": {},
   "outputs": [
    {
     "name": "stdin",
     "output_type": "stream",
     "text": [
      "¿Cómo se llama?  Santiago\n"
     ]
    },
    {
     "name": "stdout",
     "output_type": "stream",
     "text": [
      "Me alegro de conocerle, Santiago\n"
     ]
    }
   ],
   "source": [
    "nombre = input(\"¿Cómo se llama? \")\n",
    "print(f\"Me alegro de conocerle, {nombre}\")"
   ]
  },
  {
   "cell_type": "code",
   "execution_count": 5,
   "id": "661bb24a-bf23-4399-9882-d6b570d97ea1",
   "metadata": {},
   "outputs": [
    {
     "name": "stdin",
     "output_type": "stream",
     "text": [
      "Dígame una cantidad en pesos: 100\n"
     ]
    },
    {
     "name": "stdout",
     "output_type": "stream",
     "text": [
      "100 pesos son 2.67 dólares\n"
     ]
    }
   ],
   "source": [
    "cantidad = int(input(\"Dígame una cantidad en pesos:\"))\n",
    "print(f\"{cantidad} pesos son {round(cantidad / 37.5, 2)} dólares\")\n"
   ]
  },
  {
   "cell_type": "code",
   "execution_count": 6,
   "id": "84d2d704-79e0-4149-81f1-e57f27a45a66",
   "metadata": {},
   "outputs": [],
   "source": [
    "# Crear una archivo en modo write\n",
    "f = open(\"hola.txt\", \"w\")\n",
    "# Escribir un texto al archivo\n",
    "f.write(\"Hola Mundo!\")\n",
    "# Cerrar el arhivo\n",
    "f.close()\n"
   ]
  },
  {
   "cell_type": "code",
   "execution_count": 7,
   "id": "8156249e-699a-4c87-9707-8e6115131af6",
   "metadata": {},
   "outputs": [
    {
     "name": "stdout",
     "output_type": "stream",
     "text": [
      "Hola Mundo!\n"
     ]
    }
   ],
   "source": [
    "# Abrir el archivo en modo 'read'\n",
    "f = open(\"hola.txt\", \"r\")\n",
    "# Colocar el contenido del archivo en una variable\n",
    "f_contenido= f.read()\n",
    "# Cerrar el archivo\n",
    "f.close()\n",
    "# Imprimir el contenido del archivo\n",
    "print(f_contenido)\n"
   ]
  },
  {
   "cell_type": "code",
   "execution_count": 10,
   "id": "63facd54-cdbb-40e9-84c1-f339d6b10648",
   "metadata": {},
   "outputs": [],
   "source": [
    "#Agregar a un archivo\n",
    "f = open(\"hola.txt\", \"a\")\n",
    "f_contenido = \"\\r\\n Agregando lineas de code \" + \"Agregando una linea!\"\n",
    "f.write(f_contenido)\n",
    "f.close()\n"
   ]
  },
  {
   "cell_type": "code",
   "execution_count": 12,
   "id": "91e11b2f-e930-44d9-92da-689dafe1ce26",
   "metadata": {},
   "outputs": [
    {
     "name": "stdout",
     "output_type": "stream",
     "text": [
      "Línea 1: Hola Mundo!\n",
      "\n",
      "Línea 2: \n",
      "\n",
      "Línea 3: Agregando una linea!\n",
      "\n"
     ]
    }
   ],
   "source": [
    "#Leer una línea del archivo\n",
    "f = open(\"hola.txt\", \"r\")\n",
    "linea1 = f.readline()\n",
    "linea2 = f.readline()\n",
    "linea3 = f.readline()\n",
    "print(\"Línea 1:\", linea1)\n",
    "print(\"Línea 2:\", linea2)\n",
    "print(\"Línea 3:\", linea3)\n",
    "f.close()\n"
   ]
  },
  {
   "cell_type": "code",
   "execution_count": 13,
   "id": "44953926-7e57-4637-b391-02c7ad1a2847",
   "metadata": {},
   "outputs": [
    {
     "name": "stdout",
     "output_type": "stream",
     "text": [
      "Linea: Hola Mundo!\n",
      "Linea: \n",
      "Linea: Agregando una linea!\n",
      "Linea: \n",
      "Linea:  Agregando lineas de code Agregando una linea!"
     ]
    }
   ],
   "source": [
    "#Leer un archivo línea a línea:\n",
    "f = open(\"hola.txt\", \"r\")\n",
    "for linea in f:\n",
    "    print(\"Linea:\", linea, end=\"\")\n",
    "f.close()"
   ]
  },
  {
   "cell_type": "code",
   "execution_count": 14,
   "id": "60618883-7fc5-4be2-bcd4-491dd57a51ed",
   "metadata": {},
   "outputs": [
    {
     "name": "stdout",
     "output_type": "stream",
     "text": [
      "['Hola Mundo!\\n', '\\n', 'Agregando una linea!\\n', '\\n', ' Agregando lineas de code Agregando una linea!']\n"
     ]
    }
   ],
   "source": [
    "# #Using 'list()'\n",
    "f = open(\"hola.txt\", \"r\")\n",
    "f_content = list(f)\n",
    "print(f_content)\n",
    "f.close()\n"
   ]
  },
  {
   "cell_type": "code",
   "execution_count": 16,
   "id": "77f29078-e8ce-48ed-ae7b-cb5e88a27f2f",
   "metadata": {},
   "outputs": [],
   "source": [
    "with open(\"test.txt\", \"w\") as f:\n",
    "    # Escribir un texto al archivo\n",
    "    f.write(\"Hola Mundo!\")"
   ]
  },
  {
   "cell_type": "code",
   "execution_count": 17,
   "id": "8802ada9-e3b1-4986-9343-492630dac092",
   "metadata": {},
   "outputs": [
    {
     "name": "stdout",
     "output_type": "stream",
     "text": [
      "['Hola Mundo!\\n', 'Agregar nuevas lineas\\n', 'Como diferenciar sentencias y aumentar capacidad']\n"
     ]
    }
   ],
   "source": [
    "with open(\"test.txt\", \"r\") as f:\n",
    "    f_content = list(f)\n",
    "    print(f_content)"
   ]
  },
  {
   "cell_type": "code",
   "execution_count": 18,
   "id": "2d472ea2-804b-49a4-accf-3aa590decdff",
   "metadata": {},
   "outputs": [],
   "source": [
    "#16/36 Lectura de Material Teorico "
   ]
  },
  {
   "cell_type": "code",
   "execution_count": 1,
   "id": "59de877f-957c-44ad-90de-51738a2fb183",
   "metadata": {},
   "outputs": [
    {
     "name": "stdout",
     "output_type": "stream",
     "text": [
      "5\n"
     ]
    }
   ],
   "source": [
    "#Crear una clase:\n",
    "class MiClase:\n",
    "    x = 5\n",
    "#Crear un objeto:\n",
    "o = MiClase()\n",
    "print(o.x)\n",
    "#Borrar un objeto:\n",
    "del o"
   ]
  },
  {
   "cell_type": "code",
   "execution_count": 2,
   "id": "794c9fe5-645f-4d59-b8de-09b62929f8e9",
   "metadata": {},
   "outputs": [
    {
     "data": {
      "text/plain": [
       "int"
      ]
     },
     "execution_count": 2,
     "metadata": {},
     "output_type": "execute_result"
    }
   ],
   "source": [
    "a=5\n",
    "type(a)\n"
   ]
  },
  {
   "cell_type": "code",
   "execution_count": 3,
   "id": "fa43719f-e0dd-4283-812c-bce57554e8b1",
   "metadata": {},
   "outputs": [
    {
     "data": {
      "text/plain": [
       "int"
      ]
     },
     "execution_count": 3,
     "metadata": {},
     "output_type": "execute_result"
    }
   ],
   "source": [
    "a=int(5)\n",
    "type(a)\n"
   ]
  },
  {
   "cell_type": "code",
   "execution_count": 4,
   "id": "fe3da7cc-8c39-4f48-816a-b8112e8fb484",
   "metadata": {},
   "outputs": [],
   "source": [
    "class Persona:\n",
    "    def __init__(self, nombre, edad):\n",
    "        self.nombre = nombre\n",
    "        self.edad = edad"
   ]
  },
  {
   "cell_type": "code",
   "execution_count": 5,
   "id": "acb1a37b-cdba-44ea-9680-5e4745b66ec8",
   "metadata": {},
   "outputs": [
    {
     "name": "stdout",
     "output_type": "stream",
     "text": [
      "Carlos\n",
      "36\n"
     ]
    }
   ],
   "source": [
    "p1=Persona(\"Carlos\",36)\n",
    "print(p1.nombre)\n",
    "print(p1.edad)"
   ]
  },
  {
   "cell_type": "code",
   "execution_count": 12,
   "id": "b91a804c-7edf-4ddb-aae0-62e816491484",
   "metadata": {},
   "outputs": [
    {
     "name": "stdout",
     "output_type": "stream",
     "text": [
      "Hola, mi nombre  es  Carlos mi edad es 36\n"
     ]
    }
   ],
   "source": [
    "class Persona:\n",
    "    def __init__(self, nombre, edad):\n",
    "        self.nombre = nombre\n",
    "        self.edad = edad\n",
    "    def mimetodo(self):\n",
    "        print(\"Hola, mi nombre  es \" , self.nombre , \"mi edad es\" ,self.edad)\n",
    "p1 = Persona(\"Carlos\", 36)\n",
    "p1.mimetodo()"
   ]
  },
  {
   "cell_type": "code",
   "execution_count": 13,
   "id": "7ed6a32b-8c83-4905-9909-8b00ca3a05fc",
   "metadata": {},
   "outputs": [
    {
     "name": "stdout",
     "output_type": "stream",
     "text": [
      "Hola, mi nombre  es  Carlos mi edad es 41\n"
     ]
    }
   ],
   "source": [
    "#modificar \n",
    "p1.edad = 41\n",
    "p1.mimetodo()"
   ]
  },
  {
   "cell_type": "code",
   "execution_count": 14,
   "id": "ec1d692c-fa70-489b-a52f-d6df05b335d6",
   "metadata": {},
   "outputs": [],
   "source": [
    " # Borrar\n",
    " del p1.edad "
   ]
  },
  {
   "cell_type": "code",
   "execution_count": 16,
   "id": "9a55d26e-a9d5-420f-be83-07bf2a965808",
   "metadata": {},
   "outputs": [],
   "source": [
    "#p1.mimetodo()"
   ]
  },
  {
   "cell_type": "code",
   "execution_count": 18,
   "id": "95e973c4-5bef-4524-a382-c287c4b8888e",
   "metadata": {},
   "outputs": [
    {
     "name": "stdout",
     "output_type": "stream",
     "text": [
      "Marca: Renault, Ruedas: 4\n",
      "Marca: Suzuki, Ruedas: 4\n"
     ]
    }
   ],
   "source": [
    "class Auto:\n",
    "# Variable de la clase\n",
    "    ruedas = 4\n",
    "    def __init__(self, marca):\n",
    "    # Variable de la instancia\n",
    "        self.marca = marca\n",
    "auto1= Auto(\"Renault\")\n",
    "auto2= Auto(\"Suzuki\")\n",
    "\n",
    "print(f\"Marca: {auto1.marca}, Ruedas: {Auto.ruedas}\")\n",
    "print(f\"Marca: {auto2.marca}, Ruedas: {Auto.ruedas}\")\n"
   ]
  },
  {
   "cell_type": "code",
   "execution_count": 19,
   "id": "aa9aeae6-6d25-4456-b65b-979187f6b2e4",
   "metadata": {},
   "outputs": [
    {
     "data": {
      "text/plain": [
       "4"
      ]
     },
     "execution_count": 19,
     "metadata": {},
     "output_type": "execute_result"
    }
   ],
   "source": [
    "Auto.ruedas"
   ]
  },
  {
   "cell_type": "code",
   "execution_count": 20,
   "id": "a9e9277f-9097-42cf-b077-27b833db9a7e",
   "metadata": {},
   "outputs": [
    {
     "data": {
      "text/plain": [
       "4"
      ]
     },
     "execution_count": 20,
     "metadata": {},
     "output_type": "execute_result"
    }
   ],
   "source": [
    "auto1.ruedas"
   ]
  },
  {
   "cell_type": "code",
   "execution_count": 21,
   "id": "21a7a677-7c41-4e58-8a26-187b4a9c40d1",
   "metadata": {},
   "outputs": [
    {
     "name": "stdout",
     "output_type": "stream",
     "text": [
      "Alejandro\n"
     ]
    }
   ],
   "source": [
    "class Persona:\n",
    "    def __init__(self, nombre):\n",
    "        self.nombre = nombre\n",
    "    def printNombre(self):\n",
    "        print(self.nombre)\n",
    "class Estudiante(Persona):\n",
    "    pass\n",
    "\n",
    "x = Estudiante(\"Alejandro\")\n",
    "x.printNombre()"
   ]
  },
  {
   "cell_type": "code",
   "execution_count": 23,
   "id": "fb5a9b14-6b5a-4855-9231-2e2a44e00c19",
   "metadata": {},
   "outputs": [
    {
     "name": "stdout",
     "output_type": "stream",
     "text": [
      "b\n",
      "c\n",
      "d\n"
     ]
    }
   ],
   "source": [
    "class A:\n",
    "    def a(self):\n",
    "        print('b')\n",
    "class B:\n",
    "    def b(self):\n",
    "        print('c')\n",
    "class C(A, B):\n",
    "    def c(self):\n",
    "        print('d')\n",
    " \n",
    "c = C()\n",
    "c.a()\n",
    "c.b()\n",
    "c.c()"
   ]
  },
  {
   "cell_type": "code",
   "execution_count": 1,
   "id": "f63ad8a1-b12c-4e1f-8aae-1b080d1e91db",
   "metadata": {},
   "outputs": [
    {
     "name": "stdin",
     "output_type": "stream",
     "text": [
      "Ingrese un número:  140\n"
     ]
    },
    {
     "name": "stdout",
     "output_type": "stream",
     "text": [
      "Calculando 50 / 140 Resultado: 0.35714285714285715\n",
      "Ya hice todo lo necesario.\n"
     ]
    }
   ],
   "source": [
    "valid= True\n",
    "while valid:\n",
    "    try:\n",
    "        x = int(input(\"Ingrese un número: \"))\n",
    "    except ValueError:\n",
    "        print(\"El valor ingresado no es un entero.\")\n",
    "    else:\n",
    "        print(\"Calculando 50 /\", x,\"Resultado:\", 50/x)\n",
    "    finally:\n",
    "        print(\"Ya hice todo lo necesario.\")\n",
    "        valid=False"
   ]
  },
  {
   "cell_type": "code",
   "execution_count": null,
   "id": "0efa7bda-891e-407a-90a1-2cc733a65e5e",
   "metadata": {},
   "outputs": [],
   "source": []
  },
  {
   "cell_type": "code",
   "execution_count": null,
   "id": "03aefbf1-af8a-4ac2-8a41-d4ccd45498c1",
   "metadata": {},
   "outputs": [],
   "source": []
  }
 ],
 "metadata": {
  "kernelspec": {
   "display_name": "Python 3 (ipykernel)",
   "language": "python",
   "name": "python3"
  },
  "language_info": {
   "codemirror_mode": {
    "name": "ipython",
    "version": 3
   },
   "file_extension": ".py",
   "mimetype": "text/x-python",
   "name": "python",
   "nbconvert_exporter": "python",
   "pygments_lexer": "ipython3",
   "version": "3.11.7"
  }
 },
 "nbformat": 4,
 "nbformat_minor": 5
}
