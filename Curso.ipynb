{
 "cells": [
  {
   "cell_type": "code",
   "execution_count": 1,
   "id": "a8b0b049-4d1a-493d-a599-f7994d09d42e",
   "metadata": {},
   "outputs": [],
   "source": [
    "tupla = (\"abc\" , 0 , \"HOLA\", True)"
   ]
  },
  {
   "cell_type": "code",
   "execution_count": 2,
   "id": "e3a79c4b-2c74-4eb1-86ed-7d058405614a",
   "metadata": {},
   "outputs": [
    {
     "data": {
      "text/plain": [
       "'abc'"
      ]
     },
     "execution_count": 2,
     "metadata": {},
     "output_type": "execute_result"
    }
   ],
   "source": [
    "tupla[0]"
   ]
  },
  {
   "cell_type": "code",
   "execution_count": 3,
   "id": "def6a573-75b9-4e26-87ca-82f66e431fda",
   "metadata": {},
   "outputs": [],
   "source": [
    "diccionario = {\"cadena\": \"abc\",\"numero\":42 , \"lista\":[True , 42]}"
   ]
  },
  {
   "cell_type": "code",
   "execution_count": 4,
   "id": "1051cc98-252f-4afc-8f88-53bf7acf8927",
   "metadata": {},
   "outputs": [
    {
     "data": {
      "text/plain": [
       "'abc'"
      ]
     },
     "execution_count": 4,
     "metadata": {},
     "output_type": "execute_result"
    }
   ],
   "source": [
    "diccionario[\"cadena\"]"
   ]
  },
  {
   "cell_type": "code",
   "execution_count": 5,
   "id": "f74d7354-fe32-49e2-852f-2b262a3b4874",
   "metadata": {},
   "outputs": [
    {
     "data": {
      "text/plain": [
       "[True, 42]"
      ]
     },
     "execution_count": 5,
     "metadata": {},
     "output_type": "execute_result"
    }
   ],
   "source": [
    "diccionario[\"lista\"]"
   ]
  },
  {
   "cell_type": "code",
   "execution_count": 6,
   "id": "d7f88d4e-6424-40ef-ba57-deb4fd0aed7c",
   "metadata": {},
   "outputs": [],
   "source": [
    "diccionario[\"decimal\"] = 258.88"
   ]
  },
  {
   "cell_type": "code",
   "execution_count": 7,
   "id": "06a2c2aa-dbf5-44fc-b5e6-bb36a9308a5c",
   "metadata": {},
   "outputs": [
    {
     "data": {
      "text/plain": [
       "258.88"
      ]
     },
     "execution_count": 7,
     "metadata": {},
     "output_type": "execute_result"
    }
   ],
   "source": [
    "diccionario[\"decimal\"]"
   ]
  },
  {
   "cell_type": "code",
   "execution_count": 8,
   "id": "b2342f9e-f719-4be7-9d29-a6a1c64c73a7",
   "metadata": {},
   "outputs": [],
   "source": [
    " dic = {'e': 2.718, 'pi': 3.141, 'fi': 1.618}"
   ]
  },
  {
   "cell_type": "code",
   "execution_count": 9,
   "id": "6353ace8-8f19-4eb9-bc60-445ffe994381",
   "metadata": {},
   "outputs": [],
   "source": [
    " dic['pi'] = 3.141592"
   ]
  },
  {
   "cell_type": "code",
   "execution_count": 10,
   "id": "9a0dbfc9-4b6a-4de9-87d7-23c18d42c4e8",
   "metadata": {},
   "outputs": [
    {
     "data": {
      "text/plain": [
       "dict_keys(['e', 'pi', 'fi'])"
      ]
     },
     "execution_count": 10,
     "metadata": {},
     "output_type": "execute_result"
    }
   ],
   "source": [
    "dic.keys()"
   ]
  },
  {
   "cell_type": "code",
   "execution_count": 11,
   "id": "89a7044b-043a-4368-9aad-64addf4a284c",
   "metadata": {},
   "outputs": [
    {
     "data": {
      "text/plain": [
       "dict_values([2.718, 3.141592, 1.618])"
      ]
     },
     "execution_count": 11,
     "metadata": {},
     "output_type": "execute_result"
    }
   ],
   "source": [
    "dic.values()\n"
   ]
  },
  {
   "cell_type": "code",
   "execution_count": 12,
   "id": "73e58d32-28cb-470b-bb67-509016f48474",
   "metadata": {},
   "outputs": [
    {
     "data": {
      "text/plain": [
       "dict_items([('e', 2.718), ('pi', 3.141592), ('fi', 1.618)])"
      ]
     },
     "execution_count": 12,
     "metadata": {},
     "output_type": "execute_result"
    }
   ],
   "source": [
    "dic.items()"
   ]
  },
  {
   "cell_type": "code",
   "execution_count": null,
   "id": "f142aa61-a4e3-44fd-8c5f-0a40545de6b5",
   "metadata": {},
   "outputs": [],
   "source": []
  }
 ],
 "metadata": {
  "kernelspec": {
   "display_name": "Python 3 (ipykernel)",
   "language": "python",
   "name": "python3"
  },
  "language_info": {
   "codemirror_mode": {
    "name": "ipython",
    "version": 3
   },
   "file_extension": ".py",
   "mimetype": "text/x-python",
   "name": "python",
   "nbconvert_exporter": "python",
   "pygments_lexer": "ipython3",
   "version": "3.11.7"
  }
 },
 "nbformat": 4,
 "nbformat_minor": 5
}
