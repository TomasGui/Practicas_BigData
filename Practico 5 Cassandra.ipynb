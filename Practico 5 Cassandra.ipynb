{
 "cells": [
  {
   "cell_type": "code",
   "execution_count": 1,
   "id": "eba14fc6-6bf1-4937-beb9-b23cbb8018a2",
   "metadata": {},
   "outputs": [
    {
     "name": "stdout",
     "output_type": "stream",
     "text": [
      "Defaulting to user installation because normal site-packages is not writeable\n",
      "Collecting cassandra-driver\n",
      "  Downloading cassandra_driver-3.29.1-cp311-cp311-win_amd64.whl.metadata (6.0 kB)\n",
      "Collecting geomet<0.3,>=0.1 (from cassandra-driver)\n",
      "  Downloading geomet-0.2.1.post1-py3-none-any.whl.metadata (1.0 kB)\n",
      "Requirement already satisfied: click in c:\\programdata\\anaconda3\\lib\\site-packages (from geomet<0.3,>=0.1->cassandra-driver) (8.1.7)\n",
      "Requirement already satisfied: six in c:\\programdata\\anaconda3\\lib\\site-packages (from geomet<0.3,>=0.1->cassandra-driver) (1.16.0)\n",
      "Requirement already satisfied: colorama in c:\\programdata\\anaconda3\\lib\\site-packages (from click->geomet<0.3,>=0.1->cassandra-driver) (0.4.6)\n",
      "Downloading cassandra_driver-3.29.1-cp311-cp311-win_amd64.whl (2.7 MB)\n",
      "   ---------------------------------------- 0.0/2.7 MB ? eta -:--:--\n",
      "   ---------------------------------------- 0.0/2.7 MB ? eta -:--:--\n",
      "   ---------------------------------------- 0.0/2.7 MB ? eta -:--:--\n",
      "   - -------------------------------------- 0.1/2.7 MB 919.0 kB/s eta 0:00:03\n",
      "   ------- -------------------------------- 0.5/2.7 MB 4.2 MB/s eta 0:00:01\n",
      "   --------------- ------------------------ 1.0/2.7 MB 6.6 MB/s eta 0:00:01\n",
      "   --------------- ------------------------ 1.0/2.7 MB 6.6 MB/s eta 0:00:01\n",
      "   --------------- ------------------------ 1.0/2.7 MB 6.6 MB/s eta 0:00:01\n",
      "   --------------- ------------------------ 1.0/2.7 MB 6.6 MB/s eta 0:00:01\n",
      "   --------------- ------------------------ 1.0/2.7 MB 6.6 MB/s eta 0:00:01\n",
      "   --------------- ------------------------ 1.0/2.7 MB 6.6 MB/s eta 0:00:01\n",
      "   --------------- ------------------------ 1.0/2.7 MB 6.6 MB/s eta 0:00:01\n",
      "   --------------- ------------------------ 1.0/2.7 MB 6.6 MB/s eta 0:00:01\n",
      "   --------------- ------------------------ 1.0/2.7 MB 6.6 MB/s eta 0:00:01\n",
      "   --------------- ------------------------ 1.0/2.7 MB 6.6 MB/s eta 0:00:01\n",
      "   --------------- ------------------------ 1.0/2.7 MB 6.6 MB/s eta 0:00:01\n",
      "   --------------- ------------------------ 1.0/2.7 MB 6.6 MB/s eta 0:00:01\n",
      "   --------------- ------------------------ 1.0/2.7 MB 6.6 MB/s eta 0:00:01\n",
      "   -------------------------- ------------- 1.8/2.7 MB 2.3 MB/s eta 0:00:01\n",
      "   ------------------------------ --------- 2.1/2.7 MB 2.6 MB/s eta 0:00:01\n",
      "   ------------------------------ --------- 2.1/2.7 MB 2.6 MB/s eta 0:00:01\n",
      "   ------------------------------ --------- 2.1/2.7 MB 2.6 MB/s eta 0:00:01\n",
      "   ------------------------------ --------- 2.1/2.7 MB 2.6 MB/s eta 0:00:01\n",
      "   ------------------------------ --------- 2.1/2.7 MB 2.6 MB/s eta 0:00:01\n",
      "   ------------------------------ --------- 2.1/2.7 MB 2.6 MB/s eta 0:00:01\n",
      "   ------------------------------ --------- 2.1/2.7 MB 2.6 MB/s eta 0:00:01\n",
      "   ------------------------------ --------- 2.1/2.7 MB 2.6 MB/s eta 0:00:01\n",
      "   ------------------------------ --------- 2.1/2.7 MB 2.6 MB/s eta 0:00:01\n",
      "   ------------------------------ --------- 2.1/2.7 MB 2.6 MB/s eta 0:00:01\n",
      "   ------------------------------ --------- 2.1/2.7 MB 2.6 MB/s eta 0:00:01\n",
      "   --------------------------------- ------ 2.3/2.7 MB 1.7 MB/s eta 0:00:01\n",
      "   ---------------------------------------- 2.7/2.7 MB 1.9 MB/s eta 0:00:00\n",
      "Downloading geomet-0.2.1.post1-py3-none-any.whl (18 kB)\n",
      "Installing collected packages: geomet, cassandra-driver\n",
      "Successfully installed cassandra-driver-3.29.1 geomet-0.2.1.post1\n",
      "Note: you may need to restart the kernel to use updated packages.\n"
     ]
    },
    {
     "name": "stderr",
     "output_type": "stream",
     "text": [
      "  WARNING: The script geomet.exe is installed in 'C:\\Users\\Usuario\\AppData\\Roaming\\Python\\Python311\\Scripts' which is not on PATH.\n",
      "  Consider adding this directory to PATH or, if you prefer to suppress this warning, use --no-warn-script-location.\n"
     ]
    }
   ],
   "source": [
    "pip install cassandra-driver"
   ]
  },
  {
   "cell_type": "code",
   "execution_count": 3,
   "id": "cf7b5139-4ffc-454c-8ab3-1e76d9ffe2c0",
   "metadata": {},
   "outputs": [
    {
     "ename": "ModuleNotFoundError",
     "evalue": "No module named 'cassandra'",
     "output_type": "error",
     "traceback": [
      "\u001b[1;31m---------------------------------------------------------------------------\u001b[0m",
      "\u001b[1;31mModuleNotFoundError\u001b[0m                       Traceback (most recent call last)",
      "Cell \u001b[1;32mIn[3], line 1\u001b[0m\n\u001b[1;32m----> 1\u001b[0m \u001b[38;5;28;01mfrom\u001b[39;00m \u001b[38;5;21;01mcassandra\u001b[39;00m\u001b[38;5;21;01m.\u001b[39;00m\u001b[38;5;21;01mcluster\u001b[39;00m \u001b[38;5;28;01mimport\u001b[39;00m Cluster\n",
      "\u001b[1;31mModuleNotFoundError\u001b[0m: No module named 'cassandra'"
     ]
    }
   ],
   "source": [
    "from cassandra.cluster import Cluster\n"
   ]
  },
  {
   "cell_type": "code",
   "execution_count": null,
   "id": "08f26d84-f5b0-43d6-a141-76a5753d34b4",
   "metadata": {},
   "outputs": [],
   "source": []
  }
 ],
 "metadata": {
  "kernelspec": {
   "display_name": "Python 3 (ipykernel)",
   "language": "python",
   "name": "python3"
  },
  "language_info": {
   "codemirror_mode": {
    "name": "ipython",
    "version": 3
   },
   "file_extension": ".py",
   "mimetype": "text/x-python",
   "name": "python",
   "nbconvert_exporter": "python",
   "pygments_lexer": "ipython3",
   "version": "3.11.7"
  }
 },
 "nbformat": 4,
 "nbformat_minor": 5
}
